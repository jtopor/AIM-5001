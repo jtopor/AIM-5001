{
 "cells": [
  {
   "cell_type": "markdown",
   "metadata": {},
   "source": [
    "## AIM Module 6 Assignment Solutions"
   ]
  },
  {
   "cell_type": "markdown",
   "metadata": {},
   "source": [
    "__1__. Write a Python/NumPy code block that finds the unique common items between these three arrays:"
   ]
  },
  {
   "cell_type": "code",
   "execution_count": 1,
   "metadata": {},
   "outputs": [
    {
     "data": {
      "text/plain": [
       "array([2, 4])"
      ]
     },
     "execution_count": 1,
     "metadata": {},
     "output_type": "execute_result"
    }
   ],
   "source": [
    "import numpy as np\n",
    "a = np.array([1, 2, 3, 2, 3, 4, 3, 4, 5, 6])\n",
    "b = np.array([7, 2, 10, 2, 7, 4, 9, 4, 9, 8])\n",
    "c = np.array([12, 8, 3, 7, 4, 1, 2, 9, 3, 4])\n",
    "\n",
    "# the question requires finding the intersection of the 3 arrays\n",
    "np.intersect1d(np.intersect1d(a,b),c)"
   ]
  },
  {
   "cell_type": "markdown",
   "metadata": {},
   "source": [
    "__2__. Create the following 3x6 array using knowledge you have of \n",
    "Python's/NumPy's sequencing functionality so that you do not need to \n",
    "explicitly key in every integer value."
   ]
  },
  {
   "cell_type": "code",
   "execution_count": 2,
   "metadata": {
    "scrolled": false
   },
   "outputs": [
    {
     "data": {
      "text/plain": [
       "array([[ 1,  4,  7, 10, 13, 16],\n",
       "       [ 2,  5,  8, 11, 14, 17],\n",
       "       [ 3,  6,  9, 12, 15, 18]])"
      ]
     },
     "execution_count": 2,
     "metadata": {},
     "output_type": "execute_result"
    }
   ],
   "source": [
    "np.arange(1,19).reshape(6,3).T"
   ]
  },
  {
   "cell_type": "markdown",
   "metadata": {},
   "source": [
    "__3__. The process of transforming a multidimensional array into a unidimensional array is referred to as “flattening”. Transform the 3x6 array shown above in Problem 2 into a unidimensional array such that the sequence of values contained within the array is as follows: 1, 2, 3, 4, 5, 6, 7, 8, 9, 10, 11, 12, 13, 14, 15, 16, 17, 18"
   ]
  },
  {
   "cell_type": "code",
   "execution_count": 3,
   "metadata": {},
   "outputs": [
    {
     "data": {
      "text/plain": [
       "array([[ 1,  4,  7, 10, 13, 16],\n",
       "       [ 2,  5,  8, 11, 14, 17],\n",
       "       [ 3,  6,  9, 12, 15, 18]])"
      ]
     },
     "execution_count": 3,
     "metadata": {},
     "output_type": "execute_result"
    }
   ],
   "source": [
    "# reproduce the array from problem 2\n",
    "p3 = np.arange(1,19).reshape(6,3).T\n",
    "p3"
   ]
  },
  {
   "cell_type": "code",
   "execution_count": 4,
   "metadata": {},
   "outputs": [
    {
     "data": {
      "text/plain": [
       "array([ 1,  2,  3,  4,  5,  6,  7,  8,  9, 10, 11, 12, 13, 14, 15, 16, 17,\n",
       "       18])"
      ]
     },
     "execution_count": 4,
     "metadata": {},
     "output_type": "execute_result"
    }
   ],
   "source": [
    "# now flatten the array \n",
    "p3.flatten('F')"
   ]
  },
  {
   "cell_type": "markdown",
   "metadata": {},
   "source": [
    "__4__. Transform the 2-D array shown in Problem 2 into a 3 dimensional array"
   ]
  },
  {
   "cell_type": "code",
   "execution_count": 5,
   "metadata": {},
   "outputs": [
    {
     "data": {
      "text/plain": [
       "array([[ 1,  4,  7, 10, 13, 16],\n",
       "       [ 2,  5,  8, 11, 14, 17],\n",
       "       [ 3,  6,  9, 12, 15, 18]])"
      ]
     },
     "execution_count": 5,
     "metadata": {},
     "output_type": "execute_result"
    }
   ],
   "source": [
    "# recreate the array from P2\n",
    "p2 = np.arange(1,19).reshape(6,3).T\n",
    "p2"
   ]
  },
  {
   "cell_type": "code",
   "execution_count": 6,
   "metadata": {},
   "outputs": [
    {
     "name": "stdout",
     "output_type": "stream",
     "text": [
      "[[[ 1]\n",
      "  [ 2]\n",
      "  [ 3]]\n",
      "\n",
      " [[ 4]\n",
      "  [ 5]\n",
      "  [ 6]]\n",
      "\n",
      " [[ 7]\n",
      "  [ 8]\n",
      "  [ 9]]\n",
      "\n",
      " [[10]\n",
      "  [11]\n",
      "  [12]]\n",
      "\n",
      " [[13]\n",
      "  [14]\n",
      "  [15]]\n",
      "\n",
      " [[16]\n",
      "  [17]\n",
      "  [18]]]\n",
      "(6, 3, 1)\n"
     ]
    }
   ],
   "source": [
    "# sample solution\n",
    "p4 = np.reshape(p2.T, p2.T.shape + (1,))\n",
    "print(p4)\n",
    "print(p4.shape)"
   ]
  },
  {
   "cell_type": "code",
   "execution_count": 7,
   "metadata": {},
   "outputs": [
    {
     "data": {
      "text/plain": [
       "array([[[ 1],\n",
       "        [ 2],\n",
       "        [ 3]],\n",
       "\n",
       "       [[ 4],\n",
       "        [ 5],\n",
       "        [ 6]],\n",
       "\n",
       "       [[ 7],\n",
       "        [ 8],\n",
       "        [ 9]],\n",
       "\n",
       "       [[10],\n",
       "        [11],\n",
       "        [12]],\n",
       "\n",
       "       [[13],\n",
       "        [14],\n",
       "        [15]],\n",
       "\n",
       "       [[16],\n",
       "        [17],\n",
       "        [18]]])"
      ]
     },
     "execution_count": 7,
     "metadata": {},
     "output_type": "execute_result"
    }
   ],
   "source": [
    "# alternative solution:\n",
    "p4 = np.reshape(p2.T,[6,3,1],'f')\n",
    "p4"
   ]
  },
  {
   "cell_type": "markdown",
   "metadata": {},
   "source": [
    "__5__. Transform the 3-D array you created in Problem 4 back to the 3x6 2-dimensional format shown in Problem 2."
   ]
  },
  {
   "cell_type": "code",
   "execution_count": 8,
   "metadata": {},
   "outputs": [
    {
     "data": {
      "text/plain": [
       "array([[ 1,  4,  7, 10, 13, 16],\n",
       "       [ 2,  5,  8, 11, 14, 17],\n",
       "       [ 3,  6,  9, 12, 15, 18]])"
      ]
     },
     "execution_count": 8,
     "metadata": {},
     "output_type": "execute_result"
    }
   ],
   "source": [
    "p4.reshape(6,3).T"
   ]
  },
  {
   "cell_type": "markdown",
   "metadata": {},
   "source": [
    "__6__. Write a Python/Numpy code block that removes from array a any items that are also present in either array b or array c."
   ]
  },
  {
   "cell_type": "code",
   "execution_count": 2,
   "metadata": {},
   "outputs": [
    {
     "data": {
      "text/plain": [
       "array([ 8, 15])"
      ]
     },
     "execution_count": 2,
     "metadata": {},
     "output_type": "execute_result"
    }
   ],
   "source": [
    "a = np.array([12, 5, 7, 15, 3, 1, 8, 9, 2])\n",
    "b = np.array([14, 2, 6, 3, 11, 19, 9, 12, 5])\n",
    "c = np.array([1, 12, 4, 3, 13, 1, 9, 12, 5, 7])\n",
    "\n",
    "# the setdiff1d() function removes items from array a that are also in array b\n",
    "np.setdiff1d(np.setdiff1d(a,b),c)"
   ]
  },
  {
   "cell_type": "markdown",
   "metadata": {},
   "source": [
    "__7__. NYC Water Usage Data\n",
    "\n",
    "https://data.cityofnewyork.us/Environment/Water-Consumption-In-The-New-York-City/ia2d-e54m"
   ]
  },
  {
   "cell_type": "code",
   "execution_count": 9,
   "metadata": {},
   "outputs": [
    {
     "name": "stdout",
     "output_type": "stream",
     "text": [
      "[[   1979.  7102100.     1512.      213. ]\n",
      " [   1980.  7071639.     1506.      213. ]\n",
      " [   1981.  7089241.     1309.      185. ]\n",
      " [   1982.  7109105.     1382.      194. ]\n",
      " [   1983.  7181224.     1424.      198. ]\n",
      " [   1984.  7234514.     1465.      203. ]\n",
      " [   1985.  7274054.     1326.      182. ]\n",
      " [   1986.  7319246.     1351.      185. ]\n",
      " [   1987.  7342476.     1447.      197. ]\n",
      " [   1988.  7353719.     1484.      202. ]\n",
      " [   1989.  7344175.     1402.      191. ]\n",
      " [   1990.  7335650.     1424.      194. ]\n",
      " [   1991.  7374501.     1469.      199. ]\n",
      " [   1992.  7428944.     1369.      184. ]\n",
      " [   1993.  7506166.     1368.5     182. ]\n",
      " [   1994.  7570458.     1357.7     179. ]\n",
      " [   1995.  7633040.     1325.7     174. ]\n",
      " [   1996.  7697812.     1297.9     169. ]\n",
      " [   1997.  7773443.     1205.5     155. ]\n",
      " [   1998.  7858259.     1219.5     155. ]\n",
      " [   1999.  7947660.     1237.2     156. ]\n",
      " [   2000.  8008278.     1240.4     155. ]\n",
      " [   2001.  8024963.5    1184.      148. ]\n",
      " [   2002.  8041649.     1135.6     141. ]\n",
      " [   2003.  8058334.5    1093.7     136. ]\n",
      " [   2004.  8075020.     1099.5     136. ]\n",
      " [   2005.  8091705.5    1138.      141. ]\n",
      " [   2006.  8108391.     1069.      132. ]\n",
      " [   2007.  8125076.5    1114.      137. ]\n",
      " [   2008.  8141762.     1098.      135. ]\n",
      " [   2009.  8158447.5    1007.5     123. ]\n",
      " [   2010.  8175133.     1039.      127. ]\n",
      " [   2011.  8284098.     1021.      123. ]\n",
      " [   2012.  8361179.     1009.1     121. ]\n",
      " [   2013.  8422460.     1006.1     119. ]\n",
      " [   2014.  8471990.      996.      118. ]\n",
      " [   2015.  8516502.     1009.      118. ]\n",
      " [   2016.  8537673.     1002.      117. ]\n",
      " [   2017.  8622698.      990.2     115. ]]\n",
      "<class 'numpy.ndarray'>\n"
     ]
    }
   ],
   "source": [
    "import pandas\n",
    "import numpy as np\n",
    "\n",
    "# supress scientific notation\n",
    "np.set_printoptions(suppress = True)\n",
    "\n",
    "# read the data file from GitHub and convert to a NumPy ndarray object\n",
    "nyc_water = pandas.read_csv('https://raw.githubusercontent.com/shenghanyueh/AIM-5001/main/Module6_Data.csv').to_numpy()\n",
    "\n",
    "print(nyc_water)\n",
    "print(type(nyc_water))"
   ]
  },
  {
   "cell_type": "markdown",
   "metadata": {},
   "source": [
    "Which year had the minimum population amount?"
   ]
  },
  {
   "cell_type": "code",
   "execution_count": 10,
   "metadata": {},
   "outputs": [
    {
     "name": "stdout",
     "output_type": "stream",
     "text": [
      "the year had the minimum population amount:\n"
     ]
    },
    {
     "data": {
      "text/plain": [
       "1980.0"
      ]
     },
     "execution_count": 10,
     "metadata": {},
     "output_type": "execute_result"
    }
   ],
   "source": [
    "# year = column 1; population = column 2\n",
    "index = np.argmin(nyc_water[:, 1])\n",
    "print('the year had the minimum population amount:')\n",
    "nyc_water[index, 0]"
   ]
  },
  {
   "cell_type": "markdown",
   "metadata": {},
   "source": [
    "Add a new column to the numpy array containing the total annual water consumption for the city (in millions of gallons of water and assuming a 365 day calendar year)."
   ]
  },
  {
   "cell_type": "code",
   "execution_count": 11,
   "metadata": {},
   "outputs": [],
   "source": [
    "# millions of gallons of water per day = column 3\n",
    "nyc_water = np.concatenate((nyc_water, (nyc_water[:,2]*365).reshape(39,1)),axis=1)"
   ]
  },
  {
   "cell_type": "code",
   "execution_count": 13,
   "metadata": {},
   "outputs": [
    {
     "data": {
      "text/plain": [
       "array([[   1979. , 7102100. ,    1512. ,     213. ,  551880. ],\n",
       "       [   1980. , 7071639. ,    1506. ,     213. ,  549690. ],\n",
       "       [   1981. , 7089241. ,    1309. ,     185. ,  477785. ],\n",
       "       [   1982. , 7109105. ,    1382. ,     194. ,  504430. ],\n",
       "       [   1983. , 7181224. ,    1424. ,     198. ,  519760. ],\n",
       "       [   1984. , 7234514. ,    1465. ,     203. ,  534725. ],\n",
       "       [   1985. , 7274054. ,    1326. ,     182. ,  483990. ],\n",
       "       [   1986. , 7319246. ,    1351. ,     185. ,  493115. ],\n",
       "       [   1987. , 7342476. ,    1447. ,     197. ,  528155. ],\n",
       "       [   1988. , 7353719. ,    1484. ,     202. ,  541660. ],\n",
       "       [   1989. , 7344175. ,    1402. ,     191. ,  511730. ],\n",
       "       [   1990. , 7335650. ,    1424. ,     194. ,  519760. ],\n",
       "       [   1991. , 7374501. ,    1469. ,     199. ,  536185. ],\n",
       "       [   1992. , 7428944. ,    1369. ,     184. ,  499685. ],\n",
       "       [   1993. , 7506166. ,    1368.5,     182. ,  499502.5],\n",
       "       [   1994. , 7570458. ,    1357.7,     179. ,  495560.5],\n",
       "       [   1995. , 7633040. ,    1325.7,     174. ,  483880.5],\n",
       "       [   1996. , 7697812. ,    1297.9,     169. ,  473733.5],\n",
       "       [   1997. , 7773443. ,    1205.5,     155. ,  440007.5],\n",
       "       [   1998. , 7858259. ,    1219.5,     155. ,  445117.5],\n",
       "       [   1999. , 7947660. ,    1237.2,     156. ,  451578. ],\n",
       "       [   2000. , 8008278. ,    1240.4,     155. ,  452746. ],\n",
       "       [   2001. , 8024963.5,    1184. ,     148. ,  432160. ],\n",
       "       [   2002. , 8041649. ,    1135.6,     141. ,  414494. ],\n",
       "       [   2003. , 8058334.5,    1093.7,     136. ,  399200.5],\n",
       "       [   2004. , 8075020. ,    1099.5,     136. ,  401317.5],\n",
       "       [   2005. , 8091705.5,    1138. ,     141. ,  415370. ],\n",
       "       [   2006. , 8108391. ,    1069. ,     132. ,  390185. ],\n",
       "       [   2007. , 8125076.5,    1114. ,     137. ,  406610. ],\n",
       "       [   2008. , 8141762. ,    1098. ,     135. ,  400770. ],\n",
       "       [   2009. , 8158447.5,    1007.5,     123. ,  367737.5],\n",
       "       [   2010. , 8175133. ,    1039. ,     127. ,  379235. ],\n",
       "       [   2011. , 8284098. ,    1021. ,     123. ,  372665. ],\n",
       "       [   2012. , 8361179. ,    1009.1,     121. ,  368321.5],\n",
       "       [   2013. , 8422460. ,    1006.1,     119. ,  367226.5],\n",
       "       [   2014. , 8471990. ,     996. ,     118. ,  363540. ],\n",
       "       [   2015. , 8516502. ,    1009. ,     118. ,  368285. ],\n",
       "       [   2016. , 8537673. ,    1002. ,     117. ,  365730. ],\n",
       "       [   2017. , 8622698. ,     990.2,     115. ,  361423. ]])"
      ]
     },
     "execution_count": 13,
     "metadata": {},
     "output_type": "execute_result"
    }
   ],
   "source": [
    "nyc_water"
   ]
  },
  {
   "cell_type": "markdown",
   "metadata": {},
   "source": [
    "What is the median and the variance of the NYC daily water consumption metric?"
   ]
  },
  {
   "cell_type": "code",
   "execution_count": 12,
   "metadata": {},
   "outputs": [
    {
     "name": "stdout",
     "output_type": "stream",
     "text": [
      "median of NYC daily water consumption:\n"
     ]
    },
    {
     "data": {
      "text/plain": [
       "1237.2"
      ]
     },
     "execution_count": 12,
     "metadata": {},
     "output_type": "execute_result"
    }
   ],
   "source": [
    "# daily water consumption = column 3\n",
    "print('median of NYC daily water consumption:')\n",
    "np.median(nyc_water[:,2])"
   ]
  },
  {
   "cell_type": "code",
   "execution_count": 13,
   "metadata": {},
   "outputs": [
    {
     "name": "stdout",
     "output_type": "stream",
     "text": [
      "variance of NYC daily water consumption:\n"
     ]
    },
    {
     "data": {
      "text/plain": [
       "29744.87353057199"
      ]
     },
     "execution_count": 13,
     "metadata": {},
     "output_type": "execute_result"
    }
   ],
   "source": [
    "print('variance of NYC daily water consumption:')\n",
    "np.var(nyc_water[:,2])"
   ]
  },
  {
   "cell_type": "markdown",
   "metadata": {},
   "source": [
    "What is the increase or decrease in total annual water consumption from year to year? "
   ]
  },
  {
   "cell_type": "code",
   "execution_count": 16,
   "metadata": {},
   "outputs": [
    {
     "data": {
      "text/plain": [
       "array([ -2190. , -71905. ,  26645. ,  15330. ,  14965. , -50735. ,\n",
       "         9125. ,  35040. ,  13505. , -29930. ,   8030. ,  16425. ,\n",
       "       -36500. ,   -182.5,  -3942. , -11680. , -10147. , -33726. ,\n",
       "         5110. ,   6460.5,   1168. , -20586. , -17666. , -15293.5,\n",
       "         2117. ,  14052.5, -25185. ,  16425. ,  -5840. , -33032.5,\n",
       "        11497.5,  -6570. ,  -4343.5,  -1095. ,  -3686.5,   4745. ,\n",
       "        -2555. ,  -4307. ])"
      ]
     },
     "execution_count": 16,
     "metadata": {},
     "output_type": "execute_result"
    }
   ],
   "source": [
    "# total annual water consumption is the last column in the array\n",
    "# use np.diff() to calculate differences between consecutive\n",
    "# array items\n",
    "np.diff(nyc_water[:,-1])"
   ]
  },
  {
   "cell_type": "code",
   "execution_count": null,
   "metadata": {},
   "outputs": [],
   "source": []
  }
 ],
 "metadata": {
  "kernelspec": {
   "display_name": "Python 3",
   "language": "python",
   "name": "python3"
  },
  "language_info": {
   "codemirror_mode": {
    "name": "ipython",
    "version": 3
   },
   "file_extension": ".py",
   "mimetype": "text/x-python",
   "name": "python",
   "nbconvert_exporter": "python",
   "pygments_lexer": "ipython3",
   "version": "3.7.3"
  }
 },
 "nbformat": 4,
 "nbformat_minor": 2
}
