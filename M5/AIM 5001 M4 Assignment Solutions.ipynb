{
 "cells": [
  {
   "cell_type": "markdown",
   "metadata": {},
   "source": [
    "# <center>AIM 5001 Module 4 Assignment (100 Points)"
   ]
  },
  {
   "cell_type": "markdown",
   "metadata": {},
   "source": [
    "This Jupyter Notebook contains sample solutions to the AIM 5001 Module 4 Assignment. Please note that there are many ways to arrive at the correct answers to each problem. However, the sample solutions shown here are succinct and efficient.\n",
    "\n",
    "If you want to run the code, be sure to update the file path to the M3_Data40.txt file to match our own environment."
   ]
  },
  {
   "cell_type": "markdown",
   "metadata": {},
   "source": [
    "## Initialization: Reading the Data"
   ]
  },
  {
   "cell_type": "code",
   "execution_count": 1,
   "metadata": {},
   "outputs": [
    {
     "name": "stdout",
     "output_type": "stream",
     "text": [
      "['FALSE', 'TRUE', 'TRUE', 'FALSE', 'FALSE', 'FALSE', 'TRUE', 'FALSE', 'TRUE', 'TRUE', 'FALSE', 'FALSE', 'TRUE', 'FALSE', 'FALSE', 'FALSE', 'TRUE', 'FALSE', 'FALSE', 'FALSE', 'FALSE', 'FALSE', 'TRUE', 'TRUE', 'TRUE', 'FALSE', 'FALSE', 'FALSE', 'FALSE', 'TRUE', 'FALSE', 'TRUE', 'TRUE', 'FALSE', 'FALSE', 'FALSE', 'TRUE', 'TRUE', 'TRUE', 'FALSE']\n",
      "[63, 67, 67, 37, 41, 56, 62, 57, 63, 53, 57, 56, 56, 44, 52, 57, 48, 54, 48, 49, 64, 58, 58, 58, 60, 50, 58, 66, 43, 40, 69, 60, 64, 59, 44, 42, 43, 57, 55, 61]\n",
      "['MALE', 'MALE', 'MALE', 'MALE', 'FEMALE', 'MALE', 'FEMALE', 'FEMALE', 'MALE', 'MALE', 'MALE', 'FEMALE', 'MALE', 'MALE', 'MALE', 'MALE', 'MALE', 'MALE', 'FEMALE', 'MALE', 'MALE', 'FEMALE', 'MALE', 'MALE', 'MALE', 'FEMALE', 'FEMALE', 'FEMALE', 'MALE', 'MALE', 'FEMALE', 'MALE', 'MALE', 'MALE', 'MALE', 'MALE', 'MALE', 'MALE', 'MALE', 'MALE']\n",
      "['TYPICAL_ANGINA', 'ASYMPTOMATIC', 'ASYMPTOMATIC', 'NON_ANGINAL', 'ATYPICAL_ANGINA', 'ATYPICAL_ANGINA', 'ASYMPTOMATIC', 'ASYMPTOMATIC', 'ASYMPTOMATIC', 'ASYMPTOMATIC', 'ASYMPTOMATIC', 'ATYPICAL_ANGINA', 'NON_ANGINAL', 'ATYPICAL_ANGINA', 'NON_ANGINAL', 'NON_ANGINAL', 'ATYPICAL_ANGINA', 'ASYMPTOMATIC', 'NON_ANGINAL', 'ATYPICAL_ANGINA', 'TYPICAL_ANGINA', 'TYPICAL_ANGINA', 'ATYPICAL_ANGINA', 'NON_ANGINAL', 'ASYMPTOMATIC', 'NON_ANGINAL', 'NON_ANGINAL', 'TYPICAL_ANGINA', 'ASYMPTOMATIC', 'ASYMPTOMATIC', 'TYPICAL_ANGINA', 'ASYMPTOMATIC', 'NON_ANGINAL', 'ASYMPTOMATIC', 'NON_ANGINAL', 'ASYMPTOMATIC', 'ASYMPTOMATIC', 'ASYMPTOMATIC', 'ASYMPTOMATIC', 'NON_ANGINAL']\n",
      "[145, 160, 120, 130, 130, 120, 140, 120, 130, 140, 140, 140, 130, 120, 172, 150, 110, 140, 130, 130, 110, 150, 120, 132, 130, 120, 120, 150, 150, 110, 140, 117, 140, 135, 130, 140, 120, 150, 132, 150]\n",
      "[233, 286, 229, 250, 204, 236, 268, 354, 254, 203, 192, 294, 256, 263, 199, 168, 229, 239, 275, 266, 211, 283, 284, 224, 206, 219, 340, 226, 247, 167, 239, 230, 335, 234, 233, 226, 177, 276, 353, 243]\n"
     ]
    }
   ],
   "source": [
    "import csv\n",
    "\n",
    "# Create 6 lists for storing each attribute\n",
    "# Read CSV, extract six attributes from each line of the file.\n",
    "\n",
    "Diagnosis=[]\n",
    "Age=[] \n",
    "Gender=[]  \n",
    "Type_of_chest_pain=[] \n",
    "Blood_pressure_reading=[] \n",
    "Cholesterol_level=[] \n",
    "\n",
    "# categorize each value in the belonging attribute in list\n",
    "with open('M3_Data40.txt') as csvfile: \n",
    "    readCSV = csv.reader(csvfile) \n",
    "    next(readCSV) # skip the header\n",
    "    for row in readCSV: \n",
    "        Diagnosis.append(row[0])\n",
    "        Age.append(int(row[1]))\n",
    "        Gender.append(row[2])\n",
    "        Type_of_chest_pain.append(row[3])\n",
    "        Blood_pressure_reading.append(int(row[4]))\n",
    "        Cholesterol_level.append(int(row[5]))\n",
    "    #prints each of the list\n",
    "    print(Diagnosis)\n",
    "    print(Age)\n",
    "    print(Gender)\n",
    "    print(Type_of_chest_pain)\n",
    "    print(Blood_pressure_reading)\n",
    "    print(Cholesterol_level)"
   ]
  },
  {
   "cell_type": "markdown",
   "metadata": {},
   "source": [
    "## List Comprehensions:\n",
    "### 1. First Task"
   ]
  },
  {
   "cell_type": "code",
   "execution_count": 2,
   "metadata": {},
   "outputs": [
    {
     "name": "stdout",
     "output_type": "stream",
     "text": [
      "[1, 6, 7, 8, 11, 12, 13, 18, 19, 21, 22, 26, 32, 37, 38]\n"
     ]
    }
   ],
   "source": [
    "# List comprehension creates new list that contains index value of auto with \"cholesterol\" value is greater than 250\n",
    "res1 = [x for x in range(len(Cholesterol_level)) if Cholesterol_level[x] > 250]\n",
    "print(res1)"
   ]
  },
  {
   "cell_type": "markdown",
   "metadata": {},
   "source": [
    "### 2. Second Task"
   ]
  },
  {
   "cell_type": "code",
   "execution_count": 3,
   "metadata": {},
   "outputs": [
    {
     "name": "stdout",
     "output_type": "stream",
     "text": [
      "['MALE', 'FEMALE', 'FEMALE', 'MALE', 'FEMALE', 'MALE', 'MALE', 'FEMALE', 'MALE', 'FEMALE', 'MALE', 'FEMALE', 'MALE', 'MALE', 'MALE']\n"
     ]
    }
   ],
   "source": [
    "# List comprehension creates new list that contains genders for those patients with \"cholesterol\" value is greater than 250\n",
    "res2 = [Gender[x] for x in res1]\n",
    "print(res2)"
   ]
  },
  {
   "cell_type": "markdown",
   "metadata": {},
   "source": [
    "### 3. Third Task"
   ]
  },
  {
   "cell_type": "code",
   "execution_count": 4,
   "metadata": {},
   "outputs": [
    {
     "name": "stdout",
     "output_type": "stream",
     "text": [
      "[0, 1, 2, 6, 7, 8, 9, 10, 12, 14, 15, 17, 20, 21, 23, 24, 25, 26, 27, 30, 31, 32, 33, 37, 38, 39]\n"
     ]
    }
   ],
   "source": [
    "# List comprehension creates new list that contains patients index value with \"age\" is greater than or equal to 50 and “pain type” value that is not \"ATYPICAL_ANGINA\". cost not \"low\"\n",
    "res3 = [x for x in range(len(Age)) if Age[x] >= 50 and Type_of_chest_pain[x] != 'ATYPICAL_ANGINA'] \n",
    "print(res3)"
   ]
  },
  {
   "cell_type": "markdown",
   "metadata": {},
   "source": [
    "## 4. Nested List Comprehensions:"
   ]
  },
  {
   "cell_type": "code",
   "execution_count": 5,
   "metadata": {},
   "outputs": [
    {
     "name": "stdout",
     "output_type": "stream",
     "text": [
      "['Z', 4, 'ITTOD', 80, 1, 2, 3, 'A', 'B', 'C', 4, 5, 'D', 'E']\n"
     ]
    }
   ],
   "source": [
    "# List comprehension creates a new flattened list called flist using a nested list comprehension\n",
    "nlist = [ ['Z', 4, 'ITTOD', 80], [1, 2, 3], ['A', 'B', 'C'], [4, 5], ['D', 'E'] ]\n",
    "flist = [y for x in nlist for y in x]\n",
    "print(flist)"
   ]
  },
  {
   "cell_type": "markdown",
   "metadata": {},
   "source": [
    "## 5. Creating a Function:"
   ]
  },
  {
   "cell_type": "code",
   "execution_count": 6,
   "metadata": {},
   "outputs": [],
   "source": [
    "def makedict(mylist, x):\n",
    "    '''function creates a dict object that returns first x elements in the list argument. This function has\n",
    "       two arguments mylist which is the name of the list you want to read and access, and x which is the number\n",
    "       of elements you want to return.'''\n",
    "    if x > len(mylist): #checks and returns error message if input parameter exceeds length of list\n",
    "        return 'Integer value cannot exceed length of your list which is:  ' + str(len(mylist)) + '.'\n",
    "    else:\n",
    "        newdict = {}\n",
    "        newdict = {'AIM'+str(x):mylist[x] for x in range(x)} #creates the new dictionary object\n",
    "        return(newdict)"
   ]
  },
  {
   "cell_type": "code",
   "execution_count": 7,
   "metadata": {},
   "outputs": [
    {
     "data": {
      "text/plain": [
       "{'AIM0': 'TYPICAL_ANGINA', 'AIM1': 'ASYMPTOMATIC', 'AIM2': 'ASYMPTOMATIC'}"
      ]
     },
     "execution_count": 7,
     "metadata": {},
     "output_type": "execute_result"
    }
   ],
   "source": [
    "# verify the self-defined function\n",
    "makedict(Type_of_chest_pain,3)"
   ]
  },
  {
   "cell_type": "markdown",
   "metadata": {},
   "source": [
    "## 6. Using New Function:"
   ]
  },
  {
   "cell_type": "code",
   "execution_count": 8,
   "metadata": {},
   "outputs": [
    {
     "data": {
      "text/plain": [
       "'Integer value cannot exceed length of your list which is:  40.'"
      ]
     },
     "execution_count": 8,
     "metadata": {},
     "output_type": "execute_result"
    }
   ],
   "source": [
    "#tests the function to see if error message is returned if input parameter exceeds length of list.\n",
    "makedict(Age,50)"
   ]
  },
  {
   "cell_type": "code",
   "execution_count": 9,
   "metadata": {},
   "outputs": [
    {
     "name": "stdout",
     "output_type": "stream",
     "text": [
      "{'AIM0': 'TYPICAL_ANGINA', 'AIM1': 'ASYMPTOMATIC', 'AIM2': 'ASYMPTOMATIC', 'AIM3': 'NON_ANGINAL', 'AIM4': 'ATYPICAL_ANGINA', 'AIM5': 'ATYPICAL_ANGINA', 'AIM6': 'ASYMPTOMATIC', 'AIM7': 'ASYMPTOMATIC', 'AIM8': 'ASYMPTOMATIC', 'AIM9': 'ASYMPTOMATIC', 'AIM10': 'ASYMPTOMATIC', 'AIM11': 'ATYPICAL_ANGINA', 'AIM12': 'NON_ANGINAL', 'AIM13': 'ATYPICAL_ANGINA', 'AIM14': 'NON_ANGINAL'}\n"
     ]
    }
   ],
   "source": [
    "#returns first 15 elements of the \"PainType\" list\n",
    "paindict = makedict(Type_of_chest_pain,15)\n",
    "print(paindict)"
   ]
  },
  {
   "cell_type": "code",
   "execution_count": 10,
   "metadata": {},
   "outputs": [
    {
     "name": "stdout",
     "output_type": "stream",
     "text": [
      "{'AIM0': 145, 'AIM1': 160, 'AIM2': 120, 'AIM3': 130, 'AIM4': 130, 'AIM5': 120, 'AIM6': 140, 'AIM7': 120, 'AIM8': 130, 'AIM9': 140, 'AIM10': 140, 'AIM11': 140, 'AIM12': 130, 'AIM13': 120, 'AIM14': 172}\n"
     ]
    }
   ],
   "source": [
    "#returns first 15 elements of the \"Blood Pressure\" list\n",
    "bpdict = makedict(Blood_pressure_reading,15)\n",
    "print(bpdict)"
   ]
  },
  {
   "cell_type": "markdown",
   "metadata": {},
   "source": [
    "**The PainType and Blood Pressure of the patient identified by the 'AIM12' key value is:**"
   ]
  },
  {
   "cell_type": "code",
   "execution_count": 11,
   "metadata": {},
   "outputs": [
    {
     "name": "stdout",
     "output_type": "stream",
     "text": [
      "PainType: NON_ANGINAL\n",
      "Blood Pressure: 130\n"
     ]
    }
   ],
   "source": [
    "print('PainType: ' + paindict['AIM12'])\n",
    "print('Blood Pressure: ' + str(bpdict['AIM12']))"
   ]
  }
 ],
 "metadata": {
  "kernelspec": {
   "display_name": "Python 3",
   "language": "python",
   "name": "python3"
  },
  "language_info": {
   "codemirror_mode": {
    "name": "ipython",
    "version": 3
   },
   "file_extension": ".py",
   "mimetype": "text/x-python",
   "name": "python",
   "nbconvert_exporter": "python",
   "pygments_lexer": "ipython3",
   "version": "3.7.3"
  }
 },
 "nbformat": 4,
 "nbformat_minor": 2
}
