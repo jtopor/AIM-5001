{
 "cells": [
  {
   "cell_type": "markdown",
   "metadata": {},
   "source": [
    "This Jupyter Notebook contains sample solutions to the AIM 5001 Module 4 Assignment. Please note that there are many ways to arrive at the correct answers to each problem. However, the sample solutions shown here are succinct and efficient.\n",
    "\n",
    "If you want to run the code, be sure to update the file path to the cars-sample.txt file to match our own environment."
   ]
  },
  {
   "cell_type": "markdown",
   "metadata": {},
   "source": [
    "## Initialization: Reading the Data"
   ]
  },
  {
   "cell_type": "code",
   "execution_count": 3,
   "metadata": {},
   "outputs": [
    {
     "name": "stdout",
     "output_type": "stream",
     "text": [
      "['high', 'high', 'high', 'high', 'vhigh', 'low', 'med', 'low', 'vhigh', 'vhigh', 'low', 'vhigh', 'high', 'low', 'high', 'vhigh', 'med', 'high', 'low', 'low', 'med', 'low', 'vhigh', 'med', 'low', 'vhigh', 'med', 'high', 'low', 'med', 'high', 'high', 'low', 'vhigh', 'high']\n",
      "['high', 'high', 'high', 'low', 'low', 'high', 'med', 'low', 'low', 'high', 'low', 'low', 'low', 'vhigh', 'low', 'high', 'med', 'low', 'low', 'low', 'high', 'low', 'high', 'vhigh', 'vhigh', 'low', 'vhigh', 'high', 'high', 'high', 'low', 'vhigh', 'low', 'vhigh', 'low']\n",
      "['2', '4', '4', '2', '3', '2', '4', '3', '2', '4', '2', '4', '2', '3', '5more', '2', '2', '5more', '3', '2', '4', '2', '5more', '2', '4', '3', '3', '3', '5more', '5more', '3', '5more', '5more', '4', '3']\n",
      "['4', 'more', 'more', 'more', '2', '2', 'more', '2', '2', '4', '2', 'more', '4', 'more', '2', 'more', '2', '4', 'more', '2', '2', '2', '4', '2', '4', 'more', '4', '4', '2', '2', '4', '4', '2', '2', '2']\n",
      "['med', 'small', 'big', 'big', 'med', 'small', 'med', 'big', 'small', 'med', 'med', 'small', 'big', 'big', 'big', 'med', 'small', 'med', 'med', 'big', 'big', 'small', 'med', 'big', 'big', 'big', 'small', 'med', 'big', 'med', 'med', 'med', 'med', 'big', 'big']\n",
      "['low', 'high', 'low', 'high', 'med', 'low', 'high', 'med', 'low', 'low', 'med', 'high', 'med', 'low', 'med', 'high', 'low', 'high', 'high', 'med', 'high', 'high', 'med', 'low', 'low', 'low', 'low', 'med', 'low', 'med', 'high', 'med', 'low', 'high', 'high']\n",
      "['unacc', 'acc', 'unacc', 'acc', 'unacc', 'unacc', 'vgood', 'unacc', 'unacc', 'unacc', 'unacc', 'acc', 'acc', 'unacc', 'unacc', 'unacc', 'unacc', 'acc', 'vgood', 'unacc', 'unacc', 'unacc', 'unacc', 'unacc', 'unacc', 'unacc', 'unacc', 'unacc', 'unacc', 'unacc', 'acc', 'unacc', 'unacc', 'unacc', 'unacc']\n"
     ]
    }
   ],
   "source": [
    "import csv\n",
    "\n",
    "# Don't forget to insert your own file path here!!\n",
    "with open('\\cars-sample35.txt') as csvfile:\n",
    "    readCSV = csv.reader(csvfile)\n",
    "    #creates a list for each attribute\n",
    "    Price = []\n",
    "    Maint_Cost = []\n",
    "    Num_Doors = []\n",
    "    Num_Pass = []\n",
    "    Luggage = []\n",
    "    Safety = []\n",
    "    Vehicle_Class = []\n",
    "    for row in readCSV:\n",
    "        #extracts each line of the attribute and adds it on to each of the list created above.\n",
    "        Price.append(row[0])\n",
    "        Maint_Cost.append(row[1])\n",
    "        Num_Doors.append(row[2])\n",
    "        Num_Pass.append(row[3])\n",
    "        Luggage.append(row[4])\n",
    "        Safety.append(row[5])\n",
    "        Vehicle_Class.append(row[6])\n",
    "    #prints each of the list\n",
    "    print(Price)\n",
    "    print(Maint_Cost)\n",
    "    print(Num_Doors)\n",
    "    print(Num_Pass)\n",
    "    print(Luggage)\n",
    "    print(Safety)\n",
    "    print(Vehicle_Class)"
   ]
  },
  {
   "cell_type": "markdown",
   "metadata": {},
   "source": [
    "## List Comprehensions:\n",
    "### 1. First Task"
   ]
  },
  {
   "cell_type": "code",
   "execution_count": 4,
   "metadata": {},
   "outputs": [
    {
     "name": "stdout",
     "output_type": "stream",
     "text": [
      "[6, 16, 20, 23, 26, 29]\n"
     ]
    }
   ],
   "source": [
    "# List comprehension creates new list that contains index value of auto with Price value equal to \"med\"\n",
    "P_med_index = [x for x in range(len(Price)) if Price[x] == 'med']\n",
    "print(P_med_index)"
   ]
  },
  {
   "cell_type": "markdown",
   "metadata": {},
   "source": [
    "### 2. Second Task"
   ]
  },
  {
   "cell_type": "code",
   "execution_count": 5,
   "metadata": {},
   "outputs": [
    {
     "name": "stdout",
     "output_type": "stream",
     "text": [
      "['more', '2', '2', '2', '4', '2']\n"
     ]
    }
   ],
   "source": [
    "# List comprehension creates new list that contains number of passengers for those auto with Price value equal to \"med\"\n",
    "num_pass_price_med = [Num_Pass[x] for x in P_med_index]\n",
    "print(num_pass_price_med)"
   ]
  },
  {
   "cell_type": "markdown",
   "metadata": {},
   "source": [
    "### 3. Third Task"
   ]
  },
  {
   "cell_type": "code",
   "execution_count": 6,
   "metadata": {},
   "outputs": [
    {
     "name": "stdout",
     "output_type": "stream",
     "text": [
      "[0, 1, 2, 27, 31]\n"
     ]
    }
   ],
   "source": [
    "# List comprehension creates new list that contains auto index value with price \"high\" and maint. cost not \"low\"\n",
    "price_high_maint_notlow = [x for x in range(len(Price)) if Price[x] == 'high' and Maint_Cost[x] != 'low'] \n",
    "print(price_high_maint_notlow)"
   ]
  },
  {
   "cell_type": "markdown",
   "metadata": {},
   "source": [
    "## 4. Nested List Comprehensions:"
   ]
  },
  {
   "cell_type": "code",
   "execution_count": 7,
   "metadata": {},
   "outputs": [
    {
     "name": "stdout",
     "output_type": "stream",
     "text": [
      "[1, 2, 3, 'A', 'B', 'C', 4, 5, 'D', 'E']\n"
     ]
    }
   ],
   "source": [
    "# List comprehension creates a new flattened list called flist using a nested list comprehension\n",
    "nlist = [ [1, 2, 3], ['A', 'B', 'C'], [4, 5], ['D', 'E'] ]\n",
    "flist = [y for x in nlist for y in x]\n",
    "print(flist)"
   ]
  },
  {
   "cell_type": "markdown",
   "metadata": {},
   "source": [
    "## 5. Creating a Function:"
   ]
  },
  {
   "cell_type": "code",
   "execution_count": 9,
   "metadata": {},
   "outputs": [],
   "source": [
    "def makedict(mylist, x):\n",
    "    '''function creates a dict object that returns first x elements in the list argument. This function has\n",
    "       two arguments mylist which is the name of the list you want to read and access, and x which is the number\n",
    "       of elements you want to return.'''\n",
    "    if x > len(mylist): #checks and returns error message if input parameter exceeds length of list\n",
    "        return 'Integer value cannot exceed length of your list which is:  ' + str(len(mylist)) + '.'\n",
    "    else:\n",
    "        newdict = {}\n",
    "        newdict = {'A'+str(x):mylist[x] for x in range(x)} #creates the new dictionary object\n",
    "        return(newdict)"
   ]
  },
  {
   "cell_type": "markdown",
   "metadata": {},
   "source": [
    "## 6. Using New Function:"
   ]
  },
  {
   "cell_type": "code",
   "execution_count": 10,
   "metadata": {},
   "outputs": [
    {
     "data": {
      "text/plain": [
       "'Integer value cannot exceed length of your list which is:  35.'"
      ]
     },
     "execution_count": 10,
     "metadata": {},
     "output_type": "execute_result"
    }
   ],
   "source": [
    "#tests the function to see if error message is returned if input parameter exceeds length of list.\n",
    "makedict(Price,40)"
   ]
  },
  {
   "cell_type": "code",
   "execution_count": 11,
   "metadata": {},
   "outputs": [
    {
     "name": "stdout",
     "output_type": "stream",
     "text": [
      "{'A0': 'high', 'A1': 'high', 'A2': 'high', 'A3': 'high', 'A4': 'vhigh', 'A5': 'low', 'A6': 'med'}\n"
     ]
    }
   ],
   "source": [
    "#returns first 7 elements of the Price list\n",
    "pricedict = makedict(Price,7)\n",
    "print(pricedict)"
   ]
  },
  {
   "cell_type": "code",
   "execution_count": 12,
   "metadata": {},
   "outputs": [
    {
     "name": "stdout",
     "output_type": "stream",
     "text": [
      "{'A0': 'med', 'A1': 'small', 'A2': 'big', 'A3': 'big', 'A4': 'med', 'A5': 'small', 'A6': 'med'}\n"
     ]
    }
   ],
   "source": [
    "#returns first 7 elements of the Luggage list\n",
    "luggagedict = makedict(Luggage,7)\n",
    "print(luggagedict)"
   ]
  },
  {
   "cell_type": "markdown",
   "metadata": {},
   "source": [
    "**The price and luggage capacity of the auto identified by the 'A4' key value is:**"
   ]
  },
  {
   "cell_type": "code",
   "execution_count": 13,
   "metadata": {},
   "outputs": [
    {
     "name": "stdout",
     "output_type": "stream",
     "text": [
      "Price: vhigh\n",
      "Luggage Capacity: med\n"
     ]
    }
   ],
   "source": [
    "print('Price: ' + pricedict['A4'])\n",
    "print('Luggage Capacity: ' + luggagedict['A4'])"
   ]
  }
 ],
 "metadata": {
  "kernelspec": {
   "display_name": "Python 3",
   "language": "python",
   "name": "python3"
  },
  "language_info": {
   "codemirror_mode": {
    "name": "ipython",
    "version": 3
   },
   "file_extension": ".py",
   "mimetype": "text/x-python",
   "name": "python",
   "nbconvert_exporter": "python",
   "pygments_lexer": "ipython3",
   "version": "3.7.3"
  }
 },
 "nbformat": 4,
 "nbformat_minor": 2
}
