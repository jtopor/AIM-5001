{
 "cells": [
  {
   "cell_type": "markdown",
   "metadata": {},
   "source": [
    "# Module 14: NoSQL Databases & MongoDB"
   ]
  },
  {
   "cell_type": "markdown",
   "metadata": {},
   "source": [
    "The term “__NoSQL__” applies to __any non-relational database system__, i.e., data is stored in a format other than some sort of relational table-oriented structure.\n",
    "\n",
    "A NoSQL database is a storage space into which a user can deposit __virtually any type of digital object__.\n",
    "\n",
    "NoSQL databases excel at the task of __storing and managing unstructured data__ such as digital images, videos, audio clips, and collections of documents that may share a common subject matter but not a common format.\n",
    "\n",
    "Unlike relational databases, __NoSQL databases__:\n",
    "\n",
    "- __Do not__ share a common query language;\n",
    "\n",
    "\n",
    "- __Do not__ share a common methodology for storing, retrieving, and managing data;\n",
    "\n",
    "\n",
    "- __Do not__ share a common set of methods for adding, modifying and deleting their contents;\n",
    "\n",
    "\n",
    "- __Do not__ require that data be \"normalized\";\n",
    "\n",
    "\n",
    "- Have a __much shorter history of usage__ than do relational databases.\n",
    "\n",
    "\n",
    "(*However, we can, if we so choose, store and manage relational-oriented data within a NoSQL database, with the caveat being that the methodology required for managing relationships within any type of NoSQL database is quite different from the methodology used within a relational database*).\n",
    "\n",
    "\n",
    "In general, a NoSQL database provides a simple user-defined index to each object, and __virtually no internal data integrity/consistency checks__ are performed on the database’s contents as items are added, modified or deleted. Such an environment can be very useful for purposes such as software application development, storage of web-based audio/video, and for storing collections of documents that share no common format. \n",
    "\n",
    "Due to the lack of data integrity constraints, NoSQL databases are easy to \"scale up\" and distribute across remote servers."
   ]
  },
  {
   "cell_type": "markdown",
   "metadata": {},
   "source": [
    "There are __four primary types of NoSQL databases__: \n",
    "\n",
    "\n",
    "- __Key-Value Pair__: Similar to a Python dictionary object, data is stored in key-value pairs. Each key value __must__ be unique and the \"value\" can be any type of data, including strings, images, BLOB's (Binary Large OBjects), and videos. Examples include the __Redis__, __Dynamo__, and __Riak__ NoSQL databases.\n",
    "\n",
    "\n",
    "- __Column-based__: Allow users to organize key-value pairs into __columns__, i.e., we can create a separate column for a given type of attribute and then store key-value pairs within a \"column\". Key values __within__ a column __must__ be unique. This approach enables __high performance on aggregation queries__ like SUM, COUNT, AVG, MIN, etc. Examples include the __HBase__, __Cassandra__, and __Hypertable__ NoSQL databases.\n",
    "\n",
    "\n",
    "- __Graph__: Store information as __nodes__ (i.e., entities) __edges__ (i.e., relationships), and allow us to define one or more \"relationships\" between nodes. Every \"node\" and \"edge\" is assigned a unique identifier. Performance tends to be very high since relationships between nodes do not need to be calculated at the time of a query (as is the case in a relational database). Often used for social networks, logistics, and spatial data, but usage is currently expanding to many other fields as well. Examples include the __Neo4J, Infinite Graph, OrientDB__, and __FlockDB__ graph database systems.\n",
    "\n",
    "\n",
    "- __Document-Oriented__: Relies on key-value pairs, but the \"value\" consists of a \"document\" which often takes the form of an __XML__ or __JSON__ file format. __The content of the document \"values\" can be queried directly by the user__. Very flexible storage and retrieval methodology often used for Customer Management Systems, blogging platforms, real-time analytics and e-commerce applications. However, Document-Oriented NoSQL databases should not be used for complex transactions which require multiple operations or queries against varying aggregate structures. Examples include the __CouchDB__, __MongoDB__, and __Riak__ document-oriented NoSQL databases.\n",
    "\n",
    "\n",
    "(For more details, see https://www.guru99.com/nosql-tutorial.html)"
   ]
  },
  {
   "cell_type": "markdown",
   "metadata": {},
   "source": [
    "### NoSQL Database Disadvantages\n",
    "\n",
    "- Lack of a common query language; For example, lack of a common query language serves as a major impediment to migrating a NoSQL-based application from, say, MongoDB to a different NoSQL platform such as Hadoop.\n",
    "\n",
    "\n",
    "- Lack of built-in data integrity tools makes them unsuitable for many types of applications. \n",
    "\n",
    "\n",
    "- Many NoSQL databases __have proprietary methods for adding, modifying, deleting, and querying their content__. This serves as a major impediment for application developers. For example, MongoDB requires that all queries and any data being added to its platform be converted to BSON format, which itself is not widely used outside of the MongoDB environment. Within some programming languages, converting to BSON format requires that numeric or character data first be converted to JSON format, and then converted to BSON. Requiring users to perform multiple data format conversions prior to adding them to a database is woefully inefficient and wasteful. Similarly, when retrieving data back from MongoDB, in some programming languages the user receives that data in BSON format, which of course subsequently must be converted to a data structure that is suitable for manipulation within the given programming lanaguage."
   ]
  },
  {
   "cell_type": "markdown",
   "metadata": {},
   "source": [
    "## MongoDB\n",
    "\n",
    "- Used for high-volume data storage & retrieval\n",
    "\n",
    "\n",
    "- Instead of tables, rows, & columns, a MongDB database is organized around __collections__ of __documents__, each of which contain zero or more __fields__.\n",
    "\n",
    "\n",
    "- Documents are housed within __collections__, which provide a high-level method of segregating documents by, for example, topic or date or document type or whatever type of organizing principle we choose.\n",
    "\n",
    "\n",
    "- Each document within a collection has a __dynamic schema__ and can contain zero or more __fields__, which are __key-value__ pairs. There is no requirement for each document within a collection to conform to a fixed structure.\n",
    "\n",
    "\n",
    "- The content of MongoDB __documents__ is constructed / managed using __BSON__, which is a binarized form of __JSON__.\n",
    "\n",
    "\n",
    "- Components of MongoDB databases share some similarities with the components of a typical RDBMS. See https://www.tutorialspoint.com/mongodb/mongodb_overview.htm and https://docs.mongodb.com/manual/reference/sql-comparison/\n",
    "\n",
    "\n",
    "- __MongoDB Data Management Hierarchy__: Database >> Collection (similar to RDBMS Table) >> Document (similar to RDBMS Table Row) >> Field (similar to RDBMS Column)"
   ]
  },
  {
   "cell_type": "markdown",
   "metadata": {},
   "source": [
    "## MongoDB Data Types\n",
    "\n",
    "https://www.tutorialspoint.com/mongodb/mongodb_datatype.htm"
   ]
  },
  {
   "cell_type": "markdown",
   "metadata": {},
   "source": [
    "## MongoDB Data Modeling\n",
    "\n",
    "Examples of how to go about constructing a data model for a MongoDB database: https://www.tutorialspoint.com/mongodb/mongodb_data_modeling.htm\n",
    "\n"
   ]
  },
  {
   "cell_type": "markdown",
   "metadata": {},
   "source": [
    "## MongoDB Commands + Syntax\n",
    "\n",
    "A handy \"cheat sheet\" providing examples of valid MongoDB commands + syntax is available here: https://gist.github.com/bradtraversy/f407d642bdc3b31681bc7e56d95485b6\n"
   ]
  },
  {
   "cell_type": "markdown",
   "metadata": {},
   "source": [
    "## How to Create a New MongoDB Database\n",
    "\n",
    "https://www.tutorialspoint.com/mongodb/mongodb_create_database.htm"
   ]
  },
  {
   "cell_type": "markdown",
   "metadata": {},
   "source": [
    "## How to Create a Collection\n",
    "\n",
    "https://www.tutorialspoint.com/mongodb/mongodb_create_collection.htm"
   ]
  },
  {
   "cell_type": "markdown",
   "metadata": {},
   "source": [
    "## How to Create an Index for a Collection\n",
    "\n",
    "https://www.tutorialspoint.com/mongodb/mongodb_indexing.htm"
   ]
  },
  {
   "cell_type": "markdown",
   "metadata": {},
   "source": [
    "## Add a Document to a Collection\n",
    "\n",
    "https://www.tutorialspoint.com/mongodb/mongodb_insert_document.htm"
   ]
  },
  {
   "cell_type": "markdown",
   "metadata": {},
   "source": [
    "## How to Query MongoDB Documents\n",
    "\n",
    "https://www.tutorialspoint.com/mongodb/mongodb_query_document.htm"
   ]
  },
  {
   "cell_type": "markdown",
   "metadata": {},
   "source": [
    "## How to Update a MongoDB Document\n",
    "\n",
    "https://www.tutorialspoint.com/mongodb/mongodb_update_document.htm"
   ]
  },
  {
   "cell_type": "markdown",
   "metadata": {},
   "source": [
    "## How to Use MongoDB from within Python\n",
    "\n",
    "Both __PyMongo__ and __MongoEngine__ are suitable for enabling interaction with a MongoDB server from within a Juypyter Notebook.\n",
    "\n",
    "### PyMongo Installation + Tutorial:\n",
    "\n",
    "__PyMongo__ Installation instructions for Anaconda can be found here:\n",
    "\n",
    "https://anaconda.org/anaconda/pymongo\n",
    "\n",
    "After installation, refer to the tutorial for guidance on usage:\n",
    "\n",
    "https://pymongo.readthedocs.io/en/stable/tutorial.html\n",
    "\n",
    "\n",
    "### MongoEngine Installation + Tutorial: \n",
    "\n",
    "__MongoEngine__ Installation instructions for Anaconda can be found here:\n",
    "\n",
    "https://anaconda.org/conda-forge/mongoengine\n",
    "\n",
    "After installation, refer to the tutorial for guidance on usage:\n",
    "\n",
    "http://docs.mongoengine.org/tutorial.html"
   ]
  },
  {
   "cell_type": "markdown",
   "metadata": {},
   "source": [
    "## PyMongo Usage Example\n",
    "\n",
    "Get started by loading the PyMongo library and establishing a connection to your (installed and running) MongoDB server."
   ]
  },
  {
   "cell_type": "code",
   "execution_count": 1,
   "metadata": {},
   "outputs": [],
   "source": [
    "# Load the pymongo library\n",
    "import pymongo"
   ]
  },
  {
   "cell_type": "code",
   "execution_count": 2,
   "metadata": {},
   "outputs": [],
   "source": [
    "# establish a connection with your local MongoDB server\n",
    "# Make sure your MongoDB server is up + running!\n",
    "\n",
    "from pymongo import MongoClient\n",
    "client = MongoClient()"
   ]
  },
  {
   "cell_type": "markdown",
   "metadata": {},
   "source": [
    "Once connected to your MongoDB server from within your Jupyter Notebook, you can retrieve a list of any databases that already exist within your MongoDB server using the __list_database_names()__ function. NOTE: The list of databases you see displayed will likely vary from that shown below."
   ]
  },
  {
   "cell_type": "code",
   "execution_count": 55,
   "metadata": {},
   "outputs": [
    {
     "data": {
      "text/plain": [
       "['local', 'test', 'zips']"
      ]
     },
     "execution_count": 55,
     "metadata": {},
     "output_type": "execute_result"
    }
   ],
   "source": [
    "# get a list of databases on your local server\n",
    "# note your list may vary from the output shown here\n",
    "client.list_database_names()"
   ]
  },
  {
   "cell_type": "markdown",
   "metadata": {},
   "source": [
    "To __connect to a specific pre-existing MongoDB database__, use the syntax shown below. Note that for this example we are connecting to the pre-existing 'test' database."
   ]
  },
  {
   "cell_type": "code",
   "execution_count": 56,
   "metadata": {},
   "outputs": [],
   "source": [
    "# connect to a specific mondoDB database\n",
    "db = client.test"
   ]
  },
  {
   "cell_type": "markdown",
   "metadata": {},
   "source": [
    "To __display a list of all collections__ that exist within a database, use the __list_collection_names()__ function (see example below). In this instance, we see that the 'test' database contains one collection, and the name of that collection is 'restaurants'. Note that we could also assign the output of the function to a Python variable, and that variable would be a Python list that contains the names of each collection housed within the MongoDB database we are currently using."
   ]
  },
  {
   "cell_type": "code",
   "execution_count": 57,
   "metadata": {},
   "outputs": [
    {
     "data": {
      "text/plain": [
       "['restaurants']"
      ]
     },
     "execution_count": 57,
     "metadata": {},
     "output_type": "execute_result"
    }
   ],
   "source": [
    "# list collections contained within a database\n",
    "db.list_collection_names()"
   ]
  },
  {
   "cell_type": "markdown",
   "metadata": {},
   "source": [
    "### Creating A New MongoDB Database via PyMongo\n",
    "\n",
    "To __create a new database__ within MongoDB via PyMongo, use the syntax shown in the example below. In the example, we are creating a new MongoDB database named 'AIM5001'. Note the need to surround the name of the database with single quotes (i.e., it needs to be a Python string) and square brackets (a requirement of PyMongo's syntax)."
   ]
  },
  {
   "cell_type": "code",
   "execution_count": 58,
   "metadata": {},
   "outputs": [],
   "source": [
    "# create a new database\n",
    "# Here, we are creating a new database named 'AIM5001'\n",
    "\n",
    "db = client['AIM5001']"
   ]
  },
  {
   "cell_type": "markdown",
   "metadata": {},
   "source": [
    "To __use__ the new MongoDB database within your Python environment, use the syntax shown in the example below, wherein a pointer to the MongoDB database 'AIM5001' is being assigned to a Python variable. That variable can then be used to access and manipulate the content of the indicated database."
   ]
  },
  {
   "cell_type": "code",
   "execution_count": 59,
   "metadata": {},
   "outputs": [],
   "source": [
    "# To use a MongoDB database via PyMongo, simply assign it to a Python variable.\n",
    "db = client.AIM5001"
   ]
  },
  {
   "cell_type": "markdown",
   "metadata": {},
   "source": [
    "To list the names of all __collections__ within a MongoDB database, use the __list_collection_names()__ function. Note that in our example here we have not yet added any collections to our new AIM5001 database, so the list of results is empty."
   ]
  },
  {
   "cell_type": "code",
   "execution_count": 60,
   "metadata": {},
   "outputs": [
    {
     "data": {
      "text/plain": [
       "[]"
      ]
     },
     "execution_count": 60,
     "metadata": {},
     "output_type": "execute_result"
    }
   ],
   "source": [
    "# list the names of all collections within a database\n",
    "# note that we currently have none since we've just created the database\n",
    "db.list_collection_names()"
   ]
  },
  {
   "cell_type": "markdown",
   "metadata": {},
   "source": [
    "To __create a new MongoDB collection__ within the database, use the syntax shown below. In this example we are adding a collection having the name of __posts__ to our new AIM5001 database."
   ]
  },
  {
   "cell_type": "code",
   "execution_count": 61,
   "metadata": {},
   "outputs": [],
   "source": [
    "# add a new collection to the new AIM5001 database\n",
    "posts_collection = db[\"posts\"]"
   ]
  },
  {
   "cell_type": "markdown",
   "metadata": {},
   "source": [
    "There are a variety of ways to __add a new document to a MongoDB collection__. In the example below, we are defining the content of a new MongoDB document \"by hand\" using a Python dictionary object. __REMEMBER__: MongoDB __documents__ are comprised of __fields__, and each __field__ is comprised of __key : value__ pairs."
   ]
  },
  {
   "cell_type": "code",
   "execution_count": 62,
   "metadata": {},
   "outputs": [],
   "source": [
    "# create a sample document to add to the new collection\n",
    "post = {\"author\": \"Mike\",\n",
    "        \"text\": \"My first blog post!\",\n",
    "        \"tags\": [\"mongodb\", \"python\", \"pymongo\"]}"
   ]
  },
  {
   "cell_type": "markdown",
   "metadata": {},
   "source": [
    "Now that we have our new document defined, we add it to our __posts__ collection via the PyMongo __insert_one()__ function. We capture the output of the function solely for purposes of verifying that a successful insertion occurred."
   ]
  },
  {
   "cell_type": "code",
   "execution_count": 63,
   "metadata": {},
   "outputs": [
    {
     "data": {
      "text/plain": [
       "ObjectId('605620e9536d8c84414c3375')"
      ]
     },
     "execution_count": 63,
     "metadata": {},
     "output_type": "execute_result"
    }
   ],
   "source": [
    "# insert a new document into our \"posts\" collection\n",
    "post_id = posts_collection.insert_one(post).inserted_id\n",
    "post_id"
   ]
  },
  {
   "cell_type": "markdown",
   "metadata": {},
   "source": [
    "Now that our AIM5001 MongoDB database contains some actual content, the name of our new database will appear in the output of the __list_database_names()__ function. \n",
    "\n",
    "(*__NOTE__: The name of a database will NOT appear in the output of the __list_database_names()__ function if the database contains no collections or documents.*) "
   ]
  },
  {
   "cell_type": "code",
   "execution_count": 64,
   "metadata": {},
   "outputs": [
    {
     "data": {
      "text/plain": [
       "['AIM5001', 'local', 'test', 'zips']"
      ]
     },
     "execution_count": 64,
     "metadata": {},
     "output_type": "execute_result"
    }
   ],
   "source": [
    "# now that we've added content to the new database, it will appear \n",
    "# in our list of MongoDB databases\n",
    "client.list_database_names()"
   ]
  },
  {
   "cell_type": "markdown",
   "metadata": {},
   "source": [
    "To __retrieve the content of all documents housed within a MongoDB collection__, use the __find()__ function via the syntax shown below."
   ]
  },
  {
   "cell_type": "code",
   "execution_count": 65,
   "metadata": {},
   "outputs": [
    {
     "name": "stdout",
     "output_type": "stream",
     "text": [
      "{'_id': ObjectId('605620e9536d8c84414c3375'), 'author': 'Mike', 'text': 'My first blog post!', 'tags': ['mongodb', 'python', 'pymongo']}\n"
     ]
    }
   ],
   "source": [
    "# retrieve + display all documents in a collection\n",
    "for document in posts_collection.find():\n",
    "    print (document)"
   ]
  },
  {
   "cell_type": "markdown",
   "metadata": {},
   "source": [
    "To __count the number of documents within a MongoDB collection__, use the __count_documents({})__ function. Be sure to include the brackets __{}__ between the parentheses when invoking the function. Failure to do so will result in an error message. "
   ]
  },
  {
   "cell_type": "code",
   "execution_count": 66,
   "metadata": {},
   "outputs": [
    {
     "data": {
      "text/plain": [
       "1"
      ]
     },
     "execution_count": 66,
     "metadata": {},
     "output_type": "execute_result"
    }
   ],
   "source": [
    "# count the number of documents in a collection\n",
    "\n",
    "posts_collection.count_documents({})"
   ]
  },
  {
   "cell_type": "markdown",
   "metadata": {},
   "source": [
    "Now let's check the list of __collections__ within our AIM5001 database. As shown below, we see that our new __posts__ collection now appears as output of the __list_collection_names()__ function."
   ]
  },
  {
   "cell_type": "code",
   "execution_count": 67,
   "metadata": {},
   "outputs": [
    {
     "data": {
      "text/plain": [
       "['posts']"
      ]
     },
     "execution_count": 67,
     "metadata": {},
     "output_type": "execute_result"
    }
   ],
   "source": [
    "# list collections within current database\n",
    "db.list_collection_names()"
   ]
  },
  {
   "cell_type": "markdown",
   "metadata": {},
   "source": [
    "### Retrieving Documents from a MongoDB Collection via PyMongo\n",
    "\n",
    "We can now retrieve the document we stored within our __posts__ collection and store it within a __Pandas__ dataframe. To do so, we load the __pandas__ library and then assign the output of the PyMongo __find()__ function to a Python variable. We then convert that variable to a Python list, the content of which will be individual Python dictionary objects, one dictionary for each MongoDB document contained within the collection."
   ]
  },
  {
   "cell_type": "code",
   "execution_count": 68,
   "metadata": {},
   "outputs": [
    {
     "data": {
      "text/html": [
       "<div>\n",
       "<style scoped>\n",
       "    .dataframe tbody tr th:only-of-type {\n",
       "        vertical-align: middle;\n",
       "    }\n",
       "\n",
       "    .dataframe tbody tr th {\n",
       "        vertical-align: top;\n",
       "    }\n",
       "\n",
       "    .dataframe thead th {\n",
       "        text-align: right;\n",
       "    }\n",
       "</style>\n",
       "<table border=\"1\" class=\"dataframe\">\n",
       "  <thead>\n",
       "    <tr style=\"text-align: right;\">\n",
       "      <th></th>\n",
       "      <th>_id</th>\n",
       "      <th>author</th>\n",
       "      <th>tags</th>\n",
       "      <th>text</th>\n",
       "    </tr>\n",
       "  </thead>\n",
       "  <tbody>\n",
       "    <tr>\n",
       "      <th>0</th>\n",
       "      <td>605620e9536d8c84414c3375</td>\n",
       "      <td>Mike</td>\n",
       "      <td>[mongodb, python, pymongo]</td>\n",
       "      <td>My first blog post!</td>\n",
       "    </tr>\n",
       "  </tbody>\n",
       "</table>\n",
       "</div>"
      ],
      "text/plain": [
       "                        _id author                        tags  \\\n",
       "0  605620e9536d8c84414c3375   Mike  [mongodb, python, pymongo]   \n",
       "\n",
       "                  text  \n",
       "0  My first blog post!  "
      ]
     },
     "execution_count": 68,
     "metadata": {},
     "output_type": "execute_result"
    }
   ],
   "source": [
    "# retrieve documents from a collection and store them within a Pandas\n",
    "# dataframe\n",
    "\n",
    "import pandas as pd\n",
    "\n",
    "# save the output of the find() function to a variable\n",
    "cursor = posts_collection.find()\n",
    "\n",
    "# convert the content of the output of the find() function to a Python list\n",
    "entries = list(cursor)\n",
    "\n",
    "# convert the content of the python list to a pandas dataframe\n",
    "df = pd.DataFrame(entries)\n",
    "df.head()"
   ]
  },
  {
   "cell_type": "markdown",
   "metadata": {},
   "source": [
    "As shown in the output above, the dataframe contains the content of the document we had added to the __posts__ collection. Note that the unique MongoDB object id (shown in the first column) is included in the output of the PyMongo __find()__ function. The subsequent dataframe columns correspond to the content of the key:value pairs we specified when we defined the document (see above)."
   ]
  },
  {
   "cell_type": "markdown",
   "metadata": {},
   "source": [
    "Now let's add a second document to our AIM5001 __posts__ collection. For this example, we use a document whose key values are __NOT__ identical to those of the first document we added (see above)."
   ]
  },
  {
   "cell_type": "code",
   "execution_count": 45,
   "metadata": {},
   "outputs": [],
   "source": [
    "# define a 2nd document to add to the new database\n",
    "# Note how the structure of the document is NOT identical to \n",
    "# that of the first document\n",
    "\n",
    "tutorial1 = {\n",
    "    \"title\": \"Working With JSON Data in Python\",\n",
    "    \"author\": \"Lucas\",\n",
    "    \"contributors\": [\n",
    "        \"Aldren\",\n",
    "        \"Dan\",\n",
    "        \"Joanna\"\n",
    "    ],\n",
    "    \"url\": \"https://realpython.com/python-json/\"\n",
    "}"
   ]
  },
  {
   "cell_type": "code",
   "execution_count": 46,
   "metadata": {},
   "outputs": [
    {
     "data": {
      "text/plain": [
       "ObjectId('60561160536d8c84414c3374')"
      ]
     },
     "execution_count": 46,
     "metadata": {},
     "output_type": "execute_result"
    }
   ],
   "source": [
    "# Add the 2nd document to the collection\n",
    "post_id2 = posts_collection.insert_one(tutorial1).inserted_id\n",
    "post_id2"
   ]
  },
  {
   "cell_type": "markdown",
   "metadata": {},
   "source": [
    "When we now retrieve and display the content of the __posts__ collection, we can clearly see that both documents have been successfully stored within the collection, despite the fact that their structure is not identical.\n",
    "\n",
    "This is a great example of one of the advantages of using MongoDB: Documents stored within any given database or collection __DO NOT__ need to adhere to an identical format or structure."
   ]
  },
  {
   "cell_type": "code",
   "execution_count": 47,
   "metadata": {},
   "outputs": [
    {
     "name": "stdout",
     "output_type": "stream",
     "text": [
      "{'_id': ObjectId('6055ee49536d8c84414c3373'), 'author': 'Mike', 'text': 'My first blog post!', 'tags': ['mongodb', 'python', 'pymongo']}\n",
      "{'_id': ObjectId('60561160536d8c84414c3374'), 'title': 'Working With JSON Data in Python', 'author': 'Lucas', 'contributors': ['Aldren', 'Dan', 'Joanna'], 'url': 'https://realpython.com/python-json/'}\n"
     ]
    }
   ],
   "source": [
    "# retrieve + display all documents in a collection\n",
    "for document in posts_collection.find():\n",
    "    print (document)"
   ]
  },
  {
   "cell_type": "markdown",
   "metadata": {},
   "source": [
    "Let's retrieve all documents from the __posts__ collection once again and convert the results to a __pandas__ dataframe. Note once again how the content of each MongoDB document is converted to a Python dictionary object by the PyMongo __find()__ function. After converting the output of the __find()__ function to a Python list of dictionaries, we can directly convert that Python list to a __pandas__ dataframe:"
   ]
  },
  {
   "cell_type": "code",
   "execution_count": 49,
   "metadata": {},
   "outputs": [
    {
     "data": {
      "text/plain": [
       "[{'_id': ObjectId('6055ee49536d8c84414c3373'),\n",
       "  'author': 'Mike',\n",
       "  'text': 'My first blog post!',\n",
       "  'tags': ['mongodb', 'python', 'pymongo']},\n",
       " {'_id': ObjectId('60561160536d8c84414c3374'),\n",
       "  'title': 'Working With JSON Data in Python',\n",
       "  'author': 'Lucas',\n",
       "  'contributors': ['Aldren', 'Dan', 'Joanna'],\n",
       "  'url': 'https://realpython.com/python-json/'}]"
      ]
     },
     "execution_count": 49,
     "metadata": {},
     "output_type": "execute_result"
    }
   ],
   "source": [
    "# retrieve all documents from collection and convert the result to a Python list\n",
    "\n",
    "cursor = posts_collection.find()\n",
    "entries = list(cursor)\n",
    "\n",
    "# As shown below, we now have a list of Python dictionaries. \n",
    "# The content of each document from the collection is converted to a \n",
    "# Python dictionary object. Recall from Module 6 that \n",
    "# Pandas can seamlessly create a dataframe using a list of dictionaries\n",
    "entries"
   ]
  },
  {
   "cell_type": "code",
   "execution_count": 50,
   "metadata": {},
   "outputs": [
    {
     "data": {
      "text/html": [
       "<div>\n",
       "<style scoped>\n",
       "    .dataframe tbody tr th:only-of-type {\n",
       "        vertical-align: middle;\n",
       "    }\n",
       "\n",
       "    .dataframe tbody tr th {\n",
       "        vertical-align: top;\n",
       "    }\n",
       "\n",
       "    .dataframe thead th {\n",
       "        text-align: right;\n",
       "    }\n",
       "</style>\n",
       "<table border=\"1\" class=\"dataframe\">\n",
       "  <thead>\n",
       "    <tr style=\"text-align: right;\">\n",
       "      <th></th>\n",
       "      <th>_id</th>\n",
       "      <th>author</th>\n",
       "      <th>contributors</th>\n",
       "      <th>tags</th>\n",
       "      <th>text</th>\n",
       "      <th>title</th>\n",
       "      <th>url</th>\n",
       "    </tr>\n",
       "  </thead>\n",
       "  <tbody>\n",
       "    <tr>\n",
       "      <th>0</th>\n",
       "      <td>6055ee49536d8c84414c3373</td>\n",
       "      <td>Mike</td>\n",
       "      <td>NaN</td>\n",
       "      <td>[mongodb, python, pymongo]</td>\n",
       "      <td>My first blog post!</td>\n",
       "      <td>NaN</td>\n",
       "      <td>NaN</td>\n",
       "    </tr>\n",
       "    <tr>\n",
       "      <th>1</th>\n",
       "      <td>60561160536d8c84414c3374</td>\n",
       "      <td>Lucas</td>\n",
       "      <td>[Aldren, Dan, Joanna]</td>\n",
       "      <td>NaN</td>\n",
       "      <td>NaN</td>\n",
       "      <td>Working With JSON Data in Python</td>\n",
       "      <td>https://realpython.com/python-json/</td>\n",
       "    </tr>\n",
       "  </tbody>\n",
       "</table>\n",
       "</div>"
      ],
      "text/plain": [
       "                        _id author           contributors  \\\n",
       "0  6055ee49536d8c84414c3373   Mike                    NaN   \n",
       "1  60561160536d8c84414c3374  Lucas  [Aldren, Dan, Joanna]   \n",
       "\n",
       "                         tags                 text  \\\n",
       "0  [mongodb, python, pymongo]  My first blog post!   \n",
       "1                         NaN                  NaN   \n",
       "\n",
       "                              title                                  url  \n",
       "0                               NaN                                  NaN  \n",
       "1  Working With JSON Data in Python  https://realpython.com/python-json/  "
      ]
     },
     "execution_count": 50,
     "metadata": {},
     "output_type": "execute_result"
    }
   ],
   "source": [
    "# Convert the list of dictionaries to a Pandas dataframe\n",
    "# Note how Pandas assigns NaN values wherever the document key values \n",
    "# do not align\n",
    "\n",
    "df = pd.DataFrame(entries)\n",
    "df.head()"
   ]
  },
  {
   "cell_type": "markdown",
   "metadata": {},
   "source": [
    "Note in the above output how __Pandas__ assigns NaN values wherever the MongoDB document key values do not align. Obviously, the key values fields used for the two sample documents created above do not share common key values. \n",
    "\n",
    "However, if we were porting the content of an individual SQL table into MongoDB, all document key values would be identical, since each row of a given SQL table could be represented by a single MongoDB document within a MongoDB collection used to store/manage the content of the SQL table. As such, the dataframe resulting from the process shown above would not be populated with disparate key values or 'NaN' data values."
   ]
  },
  {
   "cell_type": "markdown",
   "metadata": {},
   "source": [
    "### Converting a Pandas Dataframe to a Python List of Dictionaries\n",
    "\n",
    "As mentioned above, a MongoDB __document__ is comprised of key:value pairs, and we can populate a MongoDB __collection__ from our Python environment by arranging the data we want to store as __documents__ within a MongoDB __collection__ in the form of a Python list of dictionaries, with each dictionary within the list corresponding to a single \"document\". \n",
    "\n",
    "__Pandas__ provides us with a quick and easy way to convert the content of a dataframe to a Python list of dictionaries. Specifically, we can use the __to_dict()__ function as shown below. Be sure to pass the __'records'__ keyword to the function when using it, e.g., __df.to_dict('records')__. This ensures that each dataframe row will be converted to a distinct dictionary object. Therefore, the output of the function will be a list of dictionaries, with each dictionary corresponding to the content of a single row within the dataframe.\n",
    "\n",
    "The resulting list of dictionaries can then easily be used with __PyMongo__ to populate the content of a MongoDB __collection__."
   ]
  },
  {
   "cell_type": "code",
   "execution_count": 52,
   "metadata": {},
   "outputs": [
    {
     "data": {
      "text/plain": [
       "[{'_id': ObjectId('6055ee49536d8c84414c3373'),\n",
       "  'author': 'Mike',\n",
       "  'contributors': nan,\n",
       "  'tags': ['mongodb', 'python', 'pymongo'],\n",
       "  'text': 'My first blog post!',\n",
       "  'title': nan,\n",
       "  'url': nan},\n",
       " {'_id': ObjectId('60561160536d8c84414c3374'),\n",
       "  'author': 'Lucas',\n",
       "  'contributors': ['Aldren', 'Dan', 'Joanna'],\n",
       "  'tags': nan,\n",
       "  'text': nan,\n",
       "  'title': 'Working With JSON Data in Python',\n",
       "  'url': 'https://realpython.com/python-json/'}]"
      ]
     },
     "execution_count": 52,
     "metadata": {},
     "output_type": "execute_result"
    }
   ],
   "source": [
    "# convert the content of a dataframe to a Python list of dictionaries.\n",
    "# A list of dictionaries can then be used to populate a MongoDB collection\n",
    "# with documents, wherein each dictionary within the list represents the\n",
    "# content of a single MongoDB document\n",
    "df.to_dict('records') "
   ]
  },
  {
   "cell_type": "markdown",
   "metadata": {},
   "source": [
    "### Closing your MongoDB Connection\n",
    "\n",
    "Always be sure to terminate your connectivity with your MongoDB server prior to exiting your Python environment using the __PyMongo__ syntax shown below."
   ]
  },
  {
   "cell_type": "code",
   "execution_count": 69,
   "metadata": {},
   "outputs": [],
   "source": [
    "# Lastly, be sure to terminate your connection with your MongoDB server\n",
    "# prior to exiting your Python environment\n",
    "client.close()"
   ]
  }
 ],
 "metadata": {
  "kernelspec": {
   "display_name": "Python 3",
   "language": "python",
   "name": "python3"
  },
  "language_info": {
   "codemirror_mode": {
    "name": "ipython",
    "version": 3
   },
   "file_extension": ".py",
   "mimetype": "text/x-python",
   "name": "python",
   "nbconvert_exporter": "python",
   "pygments_lexer": "ipython3",
   "version": "3.7.3"
  }
 },
 "nbformat": 4,
 "nbformat_minor": 2
}
