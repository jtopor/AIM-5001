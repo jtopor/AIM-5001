{
 "cells": [
  {
   "cell_type": "markdown",
   "metadata": {},
   "source": [
    "## AIM 5001 Regular Expressions + String Processing Sample Solution"
   ]
  },
  {
   "cell_type": "markdown",
   "metadata": {},
   "source": [
    "#### Task 1: Using regular expressions, extract the Year Born / Year Deceased for each President from the unformatted text string shown above and store them in two separate Python list objects, i.e., one list containing the Year Born values and one list containing the Year Deceased values. ####\n",
    "\n",
    "**Unformatted Text:** \n",
    "\"*B/D1732-1799George Washington---PARTY---Unaffiliated—-SERVED:1789 – 1797, VP = John Adams;#?!*****B/D1735-1826John Adams---PARTY---Federalist—-SERVED:1797 – 1801,VP: Thomas Jefferson;*****B/D1743-1826Thomas Jefferson ---PARTY---Democratic-Republican —-SERVED:1801 – 1809, VP = Aaron Burr, George Clinton;##*****B/D1751-1836James Madison ---PARTY---Democratic-Republican —-SERVED:1809 – 1817, VP = George Clinton, Elbridge Gerry;?!C****B/D1758-1831James Monroe ---PARTY---Democratic-Republican —-SERVED:1817 – 1825, VP = Daniel D Tompkins;\""
   ]
  },
  {
   "cell_type": "code",
   "execution_count": 1,
   "metadata": {},
   "outputs": [
    {
     "data": {
      "text/plain": [
       "'*B/D1732-1799George Washington---PARTY---Unaffiliated—-SERVED:1789 – 1797, VP = John Adams;#?!*****B/D1735-1826John Adams---PARTY---Federalist—-SERVED:1797 – 1801,VP: Thomas Jefferson;*****B/D1743-1826Thomas Jefferson ---PARTY---Democratic-Republican —-SERVED:1801 – 1809, VP = Aaron Burr, George Clinton;##*****B/D1751-1836James Madison ---PARTY---Democratic-Republican —-SERVED:1809 – 1817, VP = George Clinton, Elbridge Gerry;?!C****B/D1758-1831James Monroe ---PARTY---Democratic-Republican —-SERVED:1817 – 1825, VP = Daniel D Tompkins;'"
      ]
     },
     "execution_count": 1,
     "metadata": {},
     "output_type": "execute_result"
    }
   ],
   "source": [
    "import re\n",
    "import numpy as np\n",
    "\n",
    "#initialize data\n",
    "text_data = '''*B/D1732-1799George Washington---PARTY---Unaffiliated—-SERVED:1789 – 1797, VP = John Adams;#?!*****B/D1735-1826John Adams---PARTY---Federalist—-SERVED:1797 – 1801,VP: Thomas Jefferson;*****B/D1743-1826Thomas Jefferson ---PARTY---Democratic-Republican —-SERVED:1801 – 1809, VP = Aaron Burr, George Clinton;##*****B/D1751-1836James Madison ---PARTY---Democratic-Republican —-SERVED:1809 – 1817, VP = George Clinton, Elbridge Gerry;?!C****B/D1758-1831James Monroe ---PARTY---Democratic-Republican —-SERVED:1817 – 1825, VP = Daniel D Tompkins;'''\n",
    "\n",
    "text_data #prints initial unformatted text data"
   ]
  },
  {
   "cell_type": "markdown",
   "metadata": {},
   "source": [
    "**Approach:** This pattern `[*]+` splits the text data into 5 sections and each section is the information for each president. The for loop finds the pattern `B\\/D+([0-9]{4})-([0-9]{4})`to extract the born year and the deceased year for each description for the president. The string will only be added to the lists if there is a match as seen below:"
   ]
  },
  {
   "cell_type": "code",
   "execution_count": 2,
   "metadata": {},
   "outputs": [
    {
     "name": "stdout",
     "output_type": "stream",
     "text": [
      "Year Born:['1732', '1735', '1743', '1751', '1758']\n",
      "Year Deceased:['1799', '1826', '1826', '1836', '1831']\n"
     ]
    }
   ],
   "source": [
    "#splits the unformatted text to find Year Born / Year Deceased and then matches it with the pattern and returns matches in a list\n",
    "YB = []\n",
    "YD=[]\n",
    "\n",
    "for i in re.split('[*]+',text_data):\n",
    "    match=re.match('B\\/D+([0-9]{4})-([0-9]{4})',i)\n",
    "    if match:\n",
    "        YB.append(match.group(1))\n",
    "        YD.append(match.group(2))\n",
    "\n",
    "print(f'Year Born:{YB}')\n",
    "print(f'Year Deceased:{YD}')"
   ]
  },
  {
   "cell_type": "markdown",
   "metadata": {},
   "source": [
    "#### Task 2: Extract the Name of each President from the unformatted text string shown above and store the extracted names in a Python list object. ####"
   ]
  },
  {
   "cell_type": "markdown",
   "metadata": {},
   "source": [
    "**Approach:** The approach here is to utilize re.finall and that returns as a list with elements that match the pattern. The names of presidents follow by the Year Deceased and have a space between the first name and last name. Therefore, by utilizing the pattern `B\\/D+[0-9]{4}-[0-9]{4}(\\w+\\s+\\w+)`, the names of presidents can be extracted."
   ]
  },
  {
   "cell_type": "code",
   "execution_count": 3,
   "metadata": {},
   "outputs": [
    {
     "name": "stdout",
     "output_type": "stream",
     "text": [
      "['George Washington', 'John Adams', 'Thomas Jefferson', 'James Madison', 'James Monroe']\n"
     ]
    }
   ],
   "source": [
    "match = 'B\\/D+[0-9]{4}-[0-9]{4}(\\w+\\s+\\w+)'\n",
    "name = re.findall(match,text_data)\n",
    "print(name)"
   ]
  },
  {
   "cell_type": "markdown",
   "metadata": {},
   "source": [
    "#### Task 3: Using regular expressions, extract the Name of Political Party for each President from the unformatted text string shown above and store the extracted political party names in a Python list object. ####"
   ]
  },
  {
   "cell_type": "markdown",
   "metadata": {},
   "source": [
    "**Approach:** The pattern,`PARTY---([\\w-]+)\\s*—-`, was found to extract the Name of Political Party."
   ]
  },
  {
   "cell_type": "code",
   "execution_count": 4,
   "metadata": {},
   "outputs": [
    {
     "name": "stdout",
     "output_type": "stream",
     "text": [
      "['Unaffiliated', 'Federalist', 'Democratic-Republican', 'Democratic-Republican', 'Democratic-Republican']\n"
     ]
    }
   ],
   "source": [
    "match = 'PARTY---([\\w-]+)\\s*—-'\n",
    "party = re.findall(match,text_data)\n",
    "print(party)"
   ]
  },
  {
   "cell_type": "markdown",
   "metadata": {},
   "source": [
    "#### Task 4:Using regular expressions, extract the Name(s) of Vice Presidents for each President from the unformatted text string shown above and store the extracted names in a Python dictionary object wherein the key:value pairs are created using the name of each of the first five Presidents of the United States as the dictionary’s key values and the names of their associated vice presidents being instantiated as data values for each President. Note that only one key:value pair should appear within the resulting dictionary for each President (i.e., one entry for each President). ####"
   ]
  },
  {
   "cell_type": "markdown",
   "metadata": {},
   "source": [
    "**Approach:** Like task 2, we extract each name of the president and store them in a list. The pattern to extract vice presidents is `VP[\\s:=]+([\\w\\s,]+);`. Utilize the for loop to create a dictionary with the key to be each name of the president and the value to be the list containing the names of the vice presidents. "
   ]
  },
  {
   "cell_type": "code",
   "execution_count": 5,
   "metadata": {},
   "outputs": [
    {
     "name": "stdout",
     "output_type": "stream",
     "text": [
      "{'George Washington': ['John Adams'], 'John Adams': ['Thomas Jefferson'], 'Thomas Jefferson': ['Aaron Burr', 'George Clinton'], 'James Madison': ['George Clinton', 'Elbridge Gerry'], 'James Monroe': ['Daniel D Tompkins']}\n"
     ]
    }
   ],
   "source": [
    "dic={}\n",
    "pre_match = 'B\\/D+[0-9]{4}-[0-9]{4}(\\w+\\s+\\w+)'\n",
    "pre_name = re.findall(pre_match,text_data)\n",
    "\n",
    "vi_match = 'VP[\\s:=]+([\\w\\s,]+);'\n",
    "vi_name = re.findall(vi_match,text_data)\n",
    "\n",
    "for i in range(len(pre_name)):\n",
    "    dic[pre_name[i]]=vi_name[i].split(', ')\n",
    "print(dic)"
   ]
  },
  {
   "cell_type": "markdown",
   "metadata": {},
   "source": [
    "#### Task 5: Using your newly created list and dictionary objects, complete the following tasks:"
   ]
  },
  {
   "cell_type": "markdown",
   "metadata": {},
   "source": [
    "##### (a). Use your regex and string processing skills to rearrange the content of the list of names of Presidents so that all elements conform to the standard “last name, first name”; then, arrange the list in alphabetical order on the basis of the first letter of the last name of each president. #####"
   ]
  },
  {
   "cell_type": "markdown",
   "metadata": {},
   "source": [
    "**Approach:** Utilize the split(' ') to seperate the first and last names. Rearrange the sequence of all the elements to conform to the standard “last name, first name”. The res.sort() helped to arrange the list in alphabetical order on the basis of the first letter."
   ]
  },
  {
   "cell_type": "code",
   "execution_count": 6,
   "metadata": {},
   "outputs": [
    {
     "name": "stdout",
     "output_type": "stream",
     "text": [
      "['Adams, John', 'Jefferson, Thomas', 'Madison, James', 'Monroe, James', 'Washington, George']\n"
     ]
    }
   ],
   "source": [
    "res = [x.split(' ')[1]+', '+x.split(' ')[0] for x in pre_name] # exchange the order of name to conform “last name, first name”\n",
    "res.sort()\n",
    "print(res)"
   ]
  },
  {
   "cell_type": "markdown",
   "metadata": {},
   "source": [
    "##### (b). Use your Python skills to create a new dictionary object containing the total duration of each President’s lifespan. The resulting dictionary object should use the name of each president as key values while their lifespan is used to populate the associated data values for each key:value pair within the dictionary. Then, using your new dictionary object, calculate the AVERAGE lifespan of the first five Presidents of the United States. #####"
   ]
  },
  {
   "cell_type": "markdown",
   "metadata": {},
   "source": [
    "**Approach:** Retrieve the year born and the year deceased and transfer them into integers. The life span was calculated by subtracting the year born from the year deceased. Utilize the for loop to create the dictionary with the key to be the president's name and the value to be the life span. By adding all the life spans of presidents and dividing by the number of presidents, we can get the average of life span."
   ]
  },
  {
   "cell_type": "code",
   "execution_count": 7,
   "metadata": {},
   "outputs": [
    {
     "name": "stdout",
     "output_type": "stream",
     "text": [
      "79.8\n"
     ]
    }
   ],
   "source": [
    "lifespan={}\n",
    "for i in range(len(pre_name)):\n",
    "    lifespan[pre_name[i]]=int(YD[i])-int(YB[i])\n",
    "\n",
    "total=0\n",
    "for i in lifespan.keys():\n",
    "    total+=lifespan[i]\n",
    "print(total / len(pre_name))    \n",
    "    "
   ]
  },
  {
   "cell_type": "markdown",
   "metadata": {},
   "source": [
    "##### (c). Using your regex skills and the dictionary object created in Question 4 (above), construct a new dictionary object indicating whether each Vice President who served during the terms of the first five Presidents of the United States has either a ‘G’ or a ‘J’ anywhere within their first name. The resulting dictionary should be comprised of one entry for each Vice President, wherein the key value is the Vice President’s name and the associated data value contains either the Python keyword ‘TRUE’ or the Python keyword ‘FALSE’. #####"
   ]
  },
  {
   "cell_type": "markdown",
   "metadata": {},
   "source": [
    "**Approach:** Since each president has one or more vice presidents, we utilize two for loops to extract each vice president in the dictionary created in task 4. The `split(' ')[0]` helps to extract the first name. The  `'G' in first_name or 'J' in first_name` returns True or False to show whether the first name of the vice president has either a ‘G’ or a ‘J’."
   ]
  },
  {
   "cell_type": "code",
   "execution_count": 8,
   "metadata": {},
   "outputs": [
    {
     "data": {
      "text/plain": [
       "{'John Adams': True,\n",
       " 'Thomas Jefferson': False,\n",
       " 'Aaron Burr': False,\n",
       " 'George Clinton': True,\n",
       " 'Elbridge Gerry': False,\n",
       " 'Daniel D Tompkins': False}"
      ]
     },
     "execution_count": 8,
     "metadata": {},
     "output_type": "execute_result"
    }
   ],
   "source": [
    "vice_contain={}\n",
    "for i in dic.keys():\n",
    "    for vice in dic[i]:\n",
    "        #print(vice)\n",
    "        first_name = vice.split(' ')[0]\n",
    "        vice_contain[vice]='G' in first_name or 'J' in first_name\n",
    "\n",
    "vice_contain    "
   ]
  },
  {
   "cell_type": "markdown",
   "metadata": {},
   "source": [
    "##### (d).Using your regex skills and the dictionary object created in Question 4 (above), construct a new dictionary object indicating whether each Vice President who served during the terms of the first five Presidents of the United States has a middle/second name or middle initial. The resulting dictionary should be comprised of one entry for each Vice President, wherein the key value is the Vice President’s name and the associated data value contains either the Python keyword ‘TRUE’ or the Python keyword ‘FALSE’. #####"
   ]
  },
  {
   "cell_type": "markdown",
   "metadata": {},
   "source": [
    "**Approach:** To check whether the vice president has a middle/second name or middle initial, we utilize the `split(' ')` and count the length of the list. If the length is greater than 2, the name includes the middle/second name or middle initial."
   ]
  },
  {
   "cell_type": "code",
   "execution_count": 9,
   "metadata": {},
   "outputs": [
    {
     "data": {
      "text/plain": [
       "{'John Adams': False,\n",
       " 'Thomas Jefferson': False,\n",
       " 'Aaron Burr': False,\n",
       " 'George Clinton': False,\n",
       " 'Elbridge Gerry': False,\n",
       " 'Daniel D Tompkins': True}"
      ]
     },
     "execution_count": 9,
     "metadata": {},
     "output_type": "execute_result"
    }
   ],
   "source": [
    "vice_has_middle={}\n",
    "for i in dic.keys():\n",
    "    for vice in dic[i]:\n",
    "        n = len(vice.split(' '))\n",
    "        vice_has_middle[vice]=n>2\n",
    "vice_has_middle"
   ]
  },
  {
   "cell_type": "markdown",
   "metadata": {},
   "source": [
    "#### Task 6.Consider the character string ‘FIdD1E7h=’. We would like to match this string using the regular expression “[a-zA-Z]*[^,]=”, but the regular expression fails to match the text string. Explain why the regular expression fails and correct it. ####"
   ]
  },
  {
   "cell_type": "markdown",
   "metadata": {},
   "source": [
    "Ans: The regex `[a-zA-Z]*[^,]=` is to find the string with zero or more letters followed by a single character that is not ',' and followed by '='. To correct the regex, it needs to add '+' after the `[^,]` since there have additional two digits in the string. We have to specify the number of characters belonging to the set."
   ]
  },
  {
   "cell_type": "code",
   "execution_count": 10,
   "metadata": {},
   "outputs": [
    {
     "data": {
      "text/plain": [
       "<re.Match object; span=(0, 9), match='FIdD1E7h='>"
      ]
     },
     "execution_count": 10,
     "metadata": {},
     "output_type": "execute_result"
    }
   ],
   "source": [
    "match = '[a-zA-Z]*[^,]+='\n",
    "re.match(match,'FIdD1E7h=')"
   ]
  },
  {
   "cell_type": "markdown",
   "metadata": {},
   "source": [
    "#### Task 7.Consider the character string “The spy was carefully disguised”. We would like to extract only the adverb ‘carefully’ from the string. To do so we write the regular expression “^D\\s+ly()+”. Explain why this fails and correct the expression. ####"
   ]
  },
  {
   "cell_type": "markdown",
   "metadata": {},
   "source": [
    "Ans: The regex `^D\\s+ly()+ `did not match with the string since it is to find a string that starts with 'D' followed by one or more spaces and followed by 'ly'. Also, '()' in the regex is utilized to group. To extract the adverb 'carefully', the regex should be `\\b([a-z]+ly)\\b` to ensure we extract a complete word that has 'ly'."
   ]
  },
  {
   "cell_type": "code",
   "execution_count": 11,
   "metadata": {},
   "outputs": [
    {
     "data": {
      "text/plain": [
       "'carefully'"
      ]
     },
     "execution_count": 11,
     "metadata": {},
     "output_type": "execute_result"
    }
   ],
   "source": [
    "match = r\"\\b([a-z]+ly)\\b\"\n",
    "re.findall(match,'The spy was carefully disguise')[0]"
   ]
  },
  {
   "cell_type": "code",
   "execution_count": null,
   "metadata": {},
   "outputs": [],
   "source": []
  }
 ],
 "metadata": {
  "kernelspec": {
   "display_name": "Python 3",
   "language": "python",
   "name": "python3"
  },
  "language_info": {
   "codemirror_mode": {
    "name": "ipython",
    "version": 3
   },
   "file_extension": ".py",
   "mimetype": "text/x-python",
   "name": "python",
   "nbconvert_exporter": "python",
   "pygments_lexer": "ipython3",
   "version": "3.7.3"
  }
 },
 "nbformat": 4,
 "nbformat_minor": 2
}
