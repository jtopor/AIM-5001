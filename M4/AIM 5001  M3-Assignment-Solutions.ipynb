{
 "cells": [
  {
   "cell_type": "markdown",
   "metadata": {},
   "source": [
    "# <center>AIM 5001 Module 3 Assignment (100 Points)"
   ]
  },
  {
   "cell_type": "markdown",
   "metadata": {},
   "source": [
    "This Jupyter Notebook contains sample solutions to the Module 3 Assignment. Please note that there are many ways to arrive at the correct answers to each problem. However, the sample solutions shown here are succinct and efficient.\n",
    "\n",
    "If you want to run the code, be sure to update the file path to the M3_Data40.txt file to match our own environment."
   ]
  },
  {
   "cell_type": "code",
   "execution_count": 1,
   "metadata": {},
   "outputs": [],
   "source": [
    "import csv "
   ]
  },
  {
   "cell_type": "code",
   "execution_count": 3,
   "metadata": {},
   "outputs": [
    {
     "name": "stdout",
     "output_type": "stream",
     "text": [
      "['FALSE', '63', 'MALE', 'TYPICAL_ANGINA', '145', '233']\n",
      "['TRUE', '67', 'MALE', 'ASYMPTOMATIC', '160', '286']\n",
      "['TRUE', '67', 'MALE', 'ASYMPTOMATIC', '120', '229']\n",
      "['FALSE', '37', 'MALE', 'NON_ANGINAL', '130', '250']\n",
      "['FALSE', '41', 'FEMALE', 'ATYPICAL_ANGINA', '130', '204']\n",
      "['FALSE', '56', 'MALE', 'ATYPICAL_ANGINA', '120', '236']\n",
      "['TRUE', '62', 'FEMALE', 'ASYMPTOMATIC', '140', '268']\n",
      "['FALSE', '57', 'FEMALE', 'ASYMPTOMATIC', '120', '354']\n",
      "['TRUE', '63', 'MALE', 'ASYMPTOMATIC', '130', '254']\n",
      "['TRUE', '53', 'MALE', 'ASYMPTOMATIC', '140', '203']\n",
      "['FALSE', '57', 'MALE', 'ASYMPTOMATIC', '140', '192']\n",
      "['FALSE', '56', 'FEMALE', 'ATYPICAL_ANGINA', '140', '294']\n",
      "['TRUE', '56', 'MALE', 'NON_ANGINAL', '130', '256']\n",
      "['FALSE', '44', 'MALE', 'ATYPICAL_ANGINA', '120', '263']\n",
      "['FALSE', '52', 'MALE', 'NON_ANGINAL', '172', '199']\n",
      "['FALSE', '57', 'MALE', 'NON_ANGINAL', '150', '168']\n",
      "['TRUE', '48', 'MALE', 'ATYPICAL_ANGINA', '110', '229']\n",
      "['FALSE', '54', 'MALE', 'ASYMPTOMATIC', '140', '239']\n",
      "['FALSE', '48', 'FEMALE', 'NON_ANGINAL', '130', '275']\n",
      "['FALSE', '49', 'MALE', 'ATYPICAL_ANGINA', '130', '266']\n",
      "['FALSE', '64', 'MALE', 'TYPICAL_ANGINA', '110', '211']\n",
      "['FALSE', '58', 'FEMALE', 'TYPICAL_ANGINA', '150', '283']\n",
      "['TRUE', '58', 'MALE', 'ATYPICAL_ANGINA', '120', '284']\n",
      "['TRUE', '58', 'MALE', 'NON_ANGINAL', '132', '224']\n",
      "['TRUE', '60', 'MALE', 'ASYMPTOMATIC', '130', '206']\n",
      "['FALSE', '50', 'FEMALE', 'NON_ANGINAL', '120', '219']\n",
      "['FALSE', '58', 'FEMALE', 'NON_ANGINAL', '120', '340']\n",
      "['FALSE', '66', 'FEMALE', 'TYPICAL_ANGINA', '150', '226']\n",
      "['FALSE', '43', 'MALE', 'ASYMPTOMATIC', '150', '247']\n",
      "['TRUE', '40', 'MALE', 'ASYMPTOMATIC', '110', '167']\n",
      "['FALSE', '69', 'FEMALE', 'TYPICAL_ANGINA', '140', '239']\n",
      "['TRUE', '60', 'MALE', 'ASYMPTOMATIC', '117', '230']\n",
      "['TRUE', '64', 'MALE', 'NON_ANGINAL', '140', '335']\n",
      "['FALSE', '59', 'MALE', 'ASYMPTOMATIC', '135', '234']\n",
      "['FALSE', '44', 'MALE', 'NON_ANGINAL', '130', '233']\n",
      "['FALSE', '42', 'MALE', 'ASYMPTOMATIC', '140', '226']\n",
      "['TRUE', '43', 'MALE', 'ASYMPTOMATIC', '120', '177']\n",
      "['TRUE', '57', 'MALE', 'ASYMPTOMATIC', '150', '276']\n",
      "['TRUE', '55', 'MALE', 'ASYMPTOMATIC', '132', '353']\n",
      "['FALSE', '61', 'MALE', 'NON_ANGINAL', '150', '243']\n"
     ]
    }
   ],
   "source": [
    "# Read the txt file to overview the data\n",
    "with open('c:/data/M3_Data40.txt') as csvfile:\n",
    "    readCSV = csv.reader(csvfile)\n",
    "    next(readCSV) # skip the header\n",
    "    for row in readCSV:\n",
    "        print(row)"
   ]
  },
  {
   "cell_type": "markdown",
   "metadata": {},
   "source": [
    "### Q1. Create the six Python lists (one for each auto attribute)"
   ]
  },
  {
   "cell_type": "code",
   "execution_count": 7,
   "metadata": {},
   "outputs": [],
   "source": [
    "# Create 6 lists for storing each attribute\n",
    "# Read CSV again, extract six attributes from each line of the file.\n",
    "\n",
    "Diagnosis=[]\n",
    "Age=[] \n",
    "Gender=[]  \n",
    "Type_of_chest_pain=[] \n",
    "Blood_pressure_reading=[] \n",
    "Cholesterol_level=[] \n",
    "\n",
    "\n",
    "# categorize each value in the belonging attribute in list\n",
    "with open('c:/data/M3_Data40.txt') as csvfile: \n",
    "    readCSV = csv.reader(csvfile) \n",
    "    next(readCSV)\n",
    "    for row in readCSV: \n",
    "        Diagnosis.append(row[0])\n",
    "        Age.append(int(row[1]))\n",
    "        Gender.append(row[2])\n",
    "        Type_of_chest_pain.append(row[3])\n",
    "        Blood_pressure_reading.append(int(row[4]))\n",
    "        Cholesterol_level.append(int(row[5]))"
   ]
  },
  {
   "cell_type": "code",
   "execution_count": 4,
   "metadata": {},
   "outputs": [
    {
     "name": "stdout",
     "output_type": "stream",
     "text": [
      "40\n",
      "['FALSE', 'TRUE', 'TRUE', 'FALSE', 'FALSE', 'FALSE', 'TRUE', 'FALSE', 'TRUE', 'TRUE', 'FALSE', 'FALSE', 'TRUE', 'FALSE', 'FALSE', 'FALSE', 'TRUE', 'FALSE', 'FALSE', 'FALSE', 'FALSE', 'FALSE', 'TRUE', 'TRUE', 'TRUE', 'FALSE', 'FALSE', 'FALSE', 'FALSE', 'TRUE', 'FALSE', 'TRUE', 'TRUE', 'FALSE', 'FALSE', 'FALSE', 'TRUE', 'TRUE', 'TRUE', 'FALSE']\n",
      "40\n",
      "[63, 67, 67, 37, 41, 56, 62, 57, 63, 53, 57, 56, 56, 44, 52, 57, 48, 54, 48, 49, 64, 58, 58, 58, 60, 50, 58, 66, 43, 40, 69, 60, 64, 59, 44, 42, 43, 57, 55, 61]\n",
      "40\n",
      "['MALE', 'MALE', 'MALE', 'MALE', 'FEMALE', 'MALE', 'FEMALE', 'FEMALE', 'MALE', 'MALE', 'MALE', 'FEMALE', 'MALE', 'MALE', 'MALE', 'MALE', 'MALE', 'MALE', 'FEMALE', 'MALE', 'MALE', 'FEMALE', 'MALE', 'MALE', 'MALE', 'FEMALE', 'FEMALE', 'FEMALE', 'MALE', 'MALE', 'FEMALE', 'MALE', 'MALE', 'MALE', 'MALE', 'MALE', 'MALE', 'MALE', 'MALE', 'MALE']\n",
      "40\n",
      "['TYPICAL_ANGINA', 'ASYMPTOMATIC', 'ASYMPTOMATIC', 'NON_ANGINAL', 'ATYPICAL_ANGINA', 'ATYPICAL_ANGINA', 'ASYMPTOMATIC', 'ASYMPTOMATIC', 'ASYMPTOMATIC', 'ASYMPTOMATIC', 'ASYMPTOMATIC', 'ATYPICAL_ANGINA', 'NON_ANGINAL', 'ATYPICAL_ANGINA', 'NON_ANGINAL', 'NON_ANGINAL', 'ATYPICAL_ANGINA', 'ASYMPTOMATIC', 'NON_ANGINAL', 'ATYPICAL_ANGINA', 'TYPICAL_ANGINA', 'TYPICAL_ANGINA', 'ATYPICAL_ANGINA', 'NON_ANGINAL', 'ASYMPTOMATIC', 'NON_ANGINAL', 'NON_ANGINAL', 'TYPICAL_ANGINA', 'ASYMPTOMATIC', 'ASYMPTOMATIC', 'TYPICAL_ANGINA', 'ASYMPTOMATIC', 'NON_ANGINAL', 'ASYMPTOMATIC', 'NON_ANGINAL', 'ASYMPTOMATIC', 'ASYMPTOMATIC', 'ASYMPTOMATIC', 'ASYMPTOMATIC', 'NON_ANGINAL']\n",
      "40\n",
      "[145, 160, 120, 130, 130, 120, 140, 120, 130, 140, 140, 140, 130, 120, 172, 150, 110, 140, 130, 130, 110, 150, 120, 132, 130, 120, 120, 150, 150, 110, 140, 117, 140, 135, 130, 140, 120, 150, 132, 150]\n",
      "40\n",
      "[233, 286, 229, 250, 204, 236, 268, 354, 254, 203, 192, 294, 256, 263, 199, 168, 229, 239, 275, 266, 211, 283, 284, 224, 206, 219, 340, 226, 247, 167, 239, 230, 335, 234, 233, 226, 177, 276, 353, 243]\n"
     ]
    }
   ],
   "source": [
    "# Print the result\n",
    "\n",
    "all_variants=[Diagnosis, Age, Gender, Type_of_chest_pain, Blood_pressure_reading, Cholesterol_level]\n",
    "\n",
    "for i in all_variants:\n",
    "    print(len(i))\n",
    "    print(i)"
   ]
  },
  {
   "cell_type": "markdown",
   "metadata": {},
   "source": [
    "### Q2. Find the list index values of each patient having a “cholesterol” reading that is greater than 250"
   ]
  },
  {
   "cell_type": "code",
   "execution_count": 8,
   "metadata": {},
   "outputs": [
    {
     "name": "stdout",
     "output_type": "stream",
     "text": [
      "[1, 6, 7, 8, 11, 12, 13, 18, 19, 21, 22, 26, 32, 37, 38]\n"
     ]
    }
   ],
   "source": [
    "# Create a new list res to store the results \n",
    "# Print the result\n",
    "\n",
    "res1=[]\n",
    "for i in range(len(Cholesterol_level)):\n",
    "    if Cholesterol_level[i] >250:\n",
    "        res1.append(i)\n",
    "print(res1)"
   ]
  },
  {
   "cell_type": "markdown",
   "metadata": {},
   "source": [
    "### Q3. Find the \"gender\" value for each hospital patient having a \"cholesterol\" value that is greater than 250. "
   ]
  },
  {
   "cell_type": "code",
   "execution_count": 9,
   "metadata": {},
   "outputs": [
    {
     "name": "stdout",
     "output_type": "stream",
     "text": [
      "['MALE', 'FEMALE', 'FEMALE', 'MALE', 'FEMALE', 'MALE', 'MALE', 'FEMALE', 'MALE', 'FEMALE', 'MALE', 'FEMALE', 'MALE', 'MALE', 'MALE']\n"
     ]
    }
   ],
   "source": [
    "res_gender=[]\n",
    "for i in res1:\n",
    "    res_gender.append(Gender[i])\n",
    "print(res_gender)"
   ]
  },
  {
   "cell_type": "markdown",
   "metadata": {},
   "source": [
    "### Q4. Find the index value for each patient having  an “age” value that is greater than or equal to 50 and a “pain type” value that is not \"ATYPICAL_ANGINA\""
   ]
  },
  {
   "cell_type": "code",
   "execution_count": 10,
   "metadata": {},
   "outputs": [
    {
     "name": "stdout",
     "output_type": "stream",
     "text": [
      "[0, 1, 2, 6, 7, 8, 9, 10, 12, 14, 15, 17, 20, 21, 23, 24, 25, 26, 27, 30, 31, 32, 33, 37, 38, 39]\n"
     ]
    }
   ],
   "source": [
    "# Create the res4 to store the findings\n",
    "# Print the result\n",
    "\n",
    "res4=[]\n",
    "for i in range(len(Age)):\n",
    "    if Age[i] >= 50 and Type_of_chest_pain[i]!='ATYPICAL_ANGINA':\n",
    "        res4.append(i)\n",
    "print(res4)"
   ]
  },
  {
   "cell_type": "markdown",
   "metadata": {},
   "source": [
    "-----\n",
    "### Class Objects\n",
    "As we have learned, Python’s class objects allow us to manage related data in an “object oriented” fashion. For the\n",
    "remaining tasks in this assignment you will be constructing and applying your own Python class object to the\n",
    "__M3_Data40.txt__ data."
   ]
  },
  {
   "cell_type": "markdown",
   "metadata": {},
   "source": [
    "### Q5.\n",
    "Create a new Python class to store and manage the information contained within the M3_Data40.txt file. Your new class should be named “PatientData” and should include a class variable ‘PatientCount’ that represents a counter indicative of the number of PatientData objects that have been instantiated within your current Python session. The class must also contain seven instance variables including a unique ID for each patient (use the name ‘uniqueID’ for this instance variable) and six additional instance variables corresponding to the six different hospital patient attributes contained within the M3_Data40.txt file. Each time you create a new instance of the class the ‘uniqueID’ instance variable value for the new object should be assigned the existing value of the “PatientCount” class variable. The new instance should then increment the ‘PatientCount’ class variable by 1 (after assigning its previous value to the ‘uniqueID’ instance variable as mentioned above."
   ]
  },
  {
   "cell_type": "code",
   "execution_count": 11,
   "metadata": {},
   "outputs": [],
   "source": [
    "class PatientData:\n",
    "    # Initialize class variable\n",
    "    PatientCount=0\n",
    "    \n",
    "    # Define constructor for instance variables\n",
    "    def __init__(self, Diagnosis, Age, Gender, Type_of_chest_pain, Blood_pressure_reading, Cholesterol_level):\n",
    "        \n",
    "        \n",
    "        self.Diagnosis=Diagnosis\n",
    "        self.Age=Age\n",
    "        self.Gender=Gender\n",
    "        self.Type_of_chest_pain= Type_of_chest_pain\n",
    "        self.Blood_pressure_reading=Blood_pressure_reading\n",
    "        self.Cholesterol_level=Cholesterol_level\n",
    "        # uniqueID references class variable PatientCount\n",
    "        self.uniqueID=PatientData.PatientCount\n",
    "        # Increment PatientCount\n",
    "        PatientData.PatientCount+=1\n",
    "\n",
    "# uniqueID is the index of row in dataset     "
   ]
  },
  {
   "cell_type": "markdown",
   "metadata": {},
   "source": [
    "### Q6.\n",
    "Read the M3_Data40.txt file again and store its content into a list of PatientData class objects, with each row within the file being loaded into a distinct PatientData class object within that list. If you have defined your PatientData class correctly according to the specifications provided in Problem 5, each class object within your list should then contain the content of one row of the data file, with each hospital patient attribute value having been assigned to a distinct instance variable within the class object, as well as a distinct uniqueID value that was automatically assigned by the PatientData class when you read the corresponding row from the data file into the class object. Then, using your list of PatientData objects, find the uniqueID for each hospital patient having an ‘age’ value of less than 56 and a “diagnosis” value of \"TRUE\". Create a new list to store your findings and be sure to print your results."
   ]
  },
  {
   "cell_type": "code",
   "execution_count": 13,
   "metadata": {},
   "outputs": [],
   "source": [
    "# re-read the data file and load each row into a PatientData object\n",
    "patient_list = []\n",
    "\n",
    "with open('c:/data/M3_Data40.txt') as csvfile:\n",
    "    readCSV = csv.reader(csvfile)\n",
    "    next(readCSV)\n",
    "    for row in readCSV:\n",
    "        patient_list.append(PatientData(row[0],row[1],row[2],row[3],row[4],row[5]))"
   ]
  },
  {
   "cell_type": "code",
   "execution_count": 14,
   "metadata": {},
   "outputs": [
    {
     "name": "stdout",
     "output_type": "stream",
     "text": [
      "[9, 16, 29, 36, 38]\n"
     ]
    }
   ],
   "source": [
    "# find the uniqueID values for all patients having an ‘age’ value of less than 56 and a “diagnosis” value of \"TRUE\"\n",
    "res6=[]\n",
    "\n",
    "# Iterate through list of PatientData objects\n",
    "for i in patient_list:\n",
    "    if int(i.Age)<56 and i.Diagnosis=='TRUE':\n",
    "        res6.append(i.uniqueID)\n",
    "print(res6)  "
   ]
  },
  {
   "cell_type": "code",
   "execution_count": null,
   "metadata": {},
   "outputs": [],
   "source": []
  }
 ],
 "metadata": {
  "kernelspec": {
   "display_name": "Python 3",
   "language": "python",
   "name": "python3"
  },
  "language_info": {
   "codemirror_mode": {
    "name": "ipython",
    "version": 3
   },
   "file_extension": ".py",
   "mimetype": "text/x-python",
   "name": "python",
   "nbconvert_exporter": "python",
   "pygments_lexer": "ipython3",
   "version": "3.7.3"
  }
 },
 "nbformat": 4,
 "nbformat_minor": 5
}
